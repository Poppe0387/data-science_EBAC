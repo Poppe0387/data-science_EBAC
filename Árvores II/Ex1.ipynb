{
 "cells": [
  {
   "cell_type": "markdown",
   "metadata": {
    "id": "Y9BIjrTkFeq0",
    "tags": []
   },
   "source": [
    "# Árvores II - Tarefa I"
   ]
  },
  {
   "cell_type": "markdown",
   "metadata": {
    "id": "ZIzHOGG0Feq2"
   },
   "source": [
    "![image.png](attachment:f65bd82d-aa56-4cf2-8030-bb758771f332.png)  \n",
    "[fonte](https://momentum.org/programs-services/manage-your-money/savings-app/pxfuel-creative-commons-zero-cc0-iphone-smartphone-cell-phone-mobile-technology-texting/)\n",
    "\n",
    "Neste exercício vamos trabalhar com a base de dados de identificação de atividade humana com smartphones. Smartphones possuem acelerômetro e giroscópio, que registram dados de aceleração e giro nos eixos X, Y e Z, com frequencia de 50 Hz (ou seja, 50 registros por segundo). Os dados foram agrupados a medidas de 0.3 Hz, calculando-se variáveis derivadas como aceleração mínima, máxima, média etc por eixo no período agrupado de tempo, resultando em 561 variáveis que podem ser lidas nas bases disponíveis.\n",
    "\n",
    "A base é oriunda de um experimento, em que os indivíduos realizavam uma de seis atividades corriqueiras:\n",
    "- andando\n",
    "- subindo escada\n",
    "- descendo escada\n",
    "- parado\n",
    "- sentado\n",
    "- deitado\n",
    "\n",
    "O objetivo é classificar a atividade humana com base nos dados do acelerômetro e giroscópio do celular."
   ]
  },
  {
   "cell_type": "markdown",
   "metadata": {
    "id": "n-XOe6sAFeq2"
   },
   "source": [
    "### 1. Carregar a base\n",
    "\n",
    "Sua primeira atividade é carregar a base.\n",
    "\n",
    "Ela está disponível neste link:\n",
    "https://archive.ics.uci.edu/ml/datasets/human+activity+recognition+using+smartphones\n",
    "\n",
    "dados https://archive.ics.uci.edu/ml/machine-learning-databases/00240/  \n",
    "dataset.names https://archive.ics.uci.edu/ml/machine-learning-databases/00240/UCI%20HAR%20Dataset.names  \n",
    "UCI HAR Dataset.zip https://archive.ics.uci.edu/ml/machine-learning-databases/00240/UCI%20HAR%20Dataset.zip\n",
    "\n",
    "Você vai encontrar os seguintes arquivos:\n",
    "\n",
    "- **features.txt:** contém a lista com os nomes das variáveis\n",
    "- **features_info.txt:** contém a descrição das variáveis\n",
    "- **README.txt:** contém uma descrição do estudo e das bases\n",
    "- **activity_labels:** contém o código da atividade (inteiro entre 1 e 6) e a descrição\n",
    "- **subject_train.txt:** uma lista indicando que registro pertence a que indivíduo na base de treino\n",
    "- **X_train.txt:** as *features* (ou variáveis explicativas) da base de testes. Cada linha representa um registro das informações de um indivíduo em um intervalo de tempo de aproximadamente 1/0.3 segundo. As medidas estão em ordem temporal dentro do estudo, e o indivíduo que originou a medida está identificado na base subject_train.txt.\n",
    "- **y_train.txt:** Possui o mesmo número de linhas que X_test. Contém um número de 1 a 6 indicando a atividade que estava sendo realizada por aquele registro na base de treino.\n",
    "- **subject_test.txt:** uma lista indicando que registro pertence a que indivíduo na base de teste\n",
    "- **X_test.txt:** as *features* (ou variáveis explicativas) da base de testes. Cada linha representa um registro das informações de um indivíduo em um intervalo de tempo de aproximadamente 1/0.3 segundo. As medidas estão em ordem temporal dentro do estudo, e o indivíduo que originou a medida está identificado na base subject_test.txt.\n",
    "- **y_test.txt:** Possui o mesmo número de linhas que X_train. Contém um número de 1 a 6 indicando a atividade que estava sendo realizada por aquele registro na base de teste.\n",
    "\n",
    "Carregue as bases:\n",
    "\n",
    "1. Faça o download dos arquivos.\n",
    "2. Carregue a base ```features.txt``` em uma *Series* (por exemplo usando o comando ```pd.read_csv()```.\n",
    "3. Carregue a base subject_train.txt em uma *Series*\n",
    "4. Carregue a base X_train.txt\n",
    "    1. Faça com que as colunas deste *dataframe* tenham os nomes indicados em ```features.txt```\n",
    "    2. Sem alterar a ordem dos *dataframes*, coloque o indicador do indivíduo lido em ```subject_train.txt``` como uma variável a mais neste *dataframe***\n",
    "    3. Faça com que este *dataframe* tenha um índice duplo, composto pela ordem dos dados e pelo identificador do indivíduo\n",
    "5. Com a mesma lógica, carregue a base X_test\n",
    "    1. Certifique-se de que tenha os nomes lidos em ```features.txt```\n",
    "    2. Coloque o identificador do sujeito lido em ```subject_test.txt```\n",
    "    3. Defina um índice duplo composto pela ordem do registro e o identificador do registro\n",
    "6. Salve as bases em arquivos CSV para facilitar a leitura deles na terefa 2 deste módulo\n",
    "7. Considere que esta base é maior que a da aula, tanto em linhas quanto em colunas. Selecione apenas as três primeiras colunas da base ('tBodyAcc-mean()-X', 'tBodyAcc-mean()-Y' e 'tBodyAcc-mean()-Z'), para efeitos desse exercício.\n",
    "\n",
    "**OBS:** As bases já estão divididas em treino e teste, de modo que não vamos precisar da função ```train_test_split```."
   ]
  },
  {
   "cell_type": "code",
   "execution_count": 2,
   "metadata": {
    "id": "0KRWdD7iFeq3"
   },
   "outputs": [],
   "source": [
    "import numpy as np\n",
    "import pandas as pd\n",
    "import matplotlib.pyplot as plt\n",
    "\n",
    "import os\n",
    "\n",
    "from sklearn.tree import DecisionTreeClassifier\n",
    "from sklearn.metrics import ConfusionMatrixDisplay\n",
    "\n",
    "%matplotlib inline\n"
   ]
  },
  {
   "cell_type": "code",
   "execution_count": 5,
   "metadata": {
    "id": "n5JJ2w00Feq3",
    "tags": []
   },
   "outputs": [],
   "source": [
    "# Faça o download dos arquivos.\n",
    "\n",
    "_features = './download/UCI HAR Dataset/features.txt'\n",
    "_subject_train = './download/UCI HAR Dataset/train/subject_train.txt'\n",
    "_X_train = './download/UCI HAR Dataset/train/X_train.txt'\n",
    "_subject_test = './download/UCI HAR Dataset/test/subject_test.txt'\n",
    "_X_test = './download/UCI HAR Dataset/test/X_test.txt'\n",
    "_y_train = './download/UCI HAR Dataset/train/y_train.txt'\n",
    "_y_test = './download/UCI HAR Dataset/test/y_test.txt'"
   ]
  },
  {
   "cell_type": "code",
   "execution_count": 10,
   "metadata": {
    "colab": {
     "base_uri": "https://localhost:8080/"
    },
    "id": "xdqLn2qAFeq3",
    "outputId": "7b7dc262-84d3-4248-a758-af9d052ec1b2"
   },
   "outputs": [
    {
     "data": {
      "text/plain": [
       "0    1 tBodyAcc-mean()-X\n",
       "1    2 tBodyAcc-mean()-Y\n",
       "2    3 tBodyAcc-mean()-Z\n",
       "3     4 tBodyAcc-std()-X\n",
       "4     5 tBodyAcc-std()-Y\n",
       "Name: Colunas, dtype: object"
      ]
     },
     "execution_count": 10,
     "metadata": {},
     "output_type": "execute_result"
    }
   ],
   "source": [
    "# Carregando a base features.txt em uma Series\n",
    "# Eliminando a primeira linha e concatenando as duas primeiras colunas\n",
    "\n",
    "features = pd.read_csv('features.txt',sep=\" \", header=None)\n",
    "features['Colunas'] = features[0].astype(str) + ' ' + features[1]\n",
    "features = features.iloc[:,2:]\n",
    "features = features.squeeze()\n",
    "features.head()"
   ]
  },
  {
   "cell_type": "code",
   "execution_count": 8,
   "metadata": {
    "colab": {
     "base_uri": "https://localhost:8080/"
    },
    "id": "6743nSjUIB1e",
    "outputId": "d866e19c-eea7-4be9-89ad-1d449f52eaeb"
   },
   "outputs": [
    {
     "data": {
      "text/plain": [
       "0    1\n",
       "1    1\n",
       "2    1\n",
       "3    1\n",
       "4    1\n",
       "Name: 0, dtype: int64"
      ]
     },
     "execution_count": 8,
     "metadata": {},
     "output_type": "execute_result"
    }
   ],
   "source": [
    "# Carregando a base subject_train.txt em uma Series\n",
    "\n",
    "subject_train = pd.read_csv('subject_train.txt', sep =\" \", header=None)\n",
    "subject_train = subject_train.squeeze()\n",
    "subject_train.head()"
   ]
  },
  {
   "cell_type": "code",
   "execution_count": 11,
   "metadata": {
    "colab": {
     "base_uri": "https://localhost:8080/",
     "height": 322
    },
    "id": "3T6ubZ2ZIWUz",
    "outputId": "2a629624-be9f-4c2c-ca5e-7213e0300e3a"
   },
   "outputs": [
    {
     "data": {
      "text/html": [
       "<div>\n",
       "<style scoped>\n",
       "    .dataframe tbody tr th:only-of-type {\n",
       "        vertical-align: middle;\n",
       "    }\n",
       "\n",
       "    .dataframe tbody tr th {\n",
       "        vertical-align: top;\n",
       "    }\n",
       "\n",
       "    .dataframe thead th {\n",
       "        text-align: right;\n",
       "    }\n",
       "</style>\n",
       "<table border=\"1\" class=\"dataframe\">\n",
       "  <thead>\n",
       "    <tr style=\"text-align: right;\">\n",
       "      <th></th>\n",
       "      <th></th>\n",
       "      <th>1 tBodyAcc-mean()-X</th>\n",
       "      <th>2 tBodyAcc-mean()-Y</th>\n",
       "      <th>3 tBodyAcc-mean()-Z</th>\n",
       "      <th>4 tBodyAcc-std()-X</th>\n",
       "      <th>5 tBodyAcc-std()-Y</th>\n",
       "      <th>6 tBodyAcc-std()-Z</th>\n",
       "      <th>7 tBodyAcc-mad()-X</th>\n",
       "      <th>8 tBodyAcc-mad()-Y</th>\n",
       "      <th>9 tBodyAcc-mad()-Z</th>\n",
       "      <th>10 tBodyAcc-max()-X</th>\n",
       "      <th>...</th>\n",
       "      <th>552 fBodyBodyGyroJerkMag-meanFreq()</th>\n",
       "      <th>553 fBodyBodyGyroJerkMag-skewness()</th>\n",
       "      <th>554 fBodyBodyGyroJerkMag-kurtosis()</th>\n",
       "      <th>555 angle(tBodyAccMean,gravity)</th>\n",
       "      <th>556 angle(tBodyAccJerkMean),gravityMean)</th>\n",
       "      <th>557 angle(tBodyGyroMean,gravityMean)</th>\n",
       "      <th>558 angle(tBodyGyroJerkMean,gravityMean)</th>\n",
       "      <th>559 angle(X,gravityMean)</th>\n",
       "      <th>560 angle(Y,gravityMean)</th>\n",
       "      <th>561 angle(Z,gravityMean)</th>\n",
       "    </tr>\n",
       "    <tr>\n",
       "      <th></th>\n",
       "      <th>Subject</th>\n",
       "      <th></th>\n",
       "      <th></th>\n",
       "      <th></th>\n",
       "      <th></th>\n",
       "      <th></th>\n",
       "      <th></th>\n",
       "      <th></th>\n",
       "      <th></th>\n",
       "      <th></th>\n",
       "      <th></th>\n",
       "      <th></th>\n",
       "      <th></th>\n",
       "      <th></th>\n",
       "      <th></th>\n",
       "      <th></th>\n",
       "      <th></th>\n",
       "      <th></th>\n",
       "      <th></th>\n",
       "      <th></th>\n",
       "      <th></th>\n",
       "      <th></th>\n",
       "    </tr>\n",
       "  </thead>\n",
       "  <tbody>\n",
       "    <tr>\n",
       "      <th>0</th>\n",
       "      <th>1</th>\n",
       "      <td>0.288585</td>\n",
       "      <td>-0.020294</td>\n",
       "      <td>-0.132905</td>\n",
       "      <td>-0.995279</td>\n",
       "      <td>-0.983111</td>\n",
       "      <td>-0.913526</td>\n",
       "      <td>-0.995112</td>\n",
       "      <td>-0.983185</td>\n",
       "      <td>-0.923527</td>\n",
       "      <td>-0.934724</td>\n",
       "      <td>...</td>\n",
       "      <td>-0.074323</td>\n",
       "      <td>-0.298676</td>\n",
       "      <td>-0.710304</td>\n",
       "      <td>-0.112754</td>\n",
       "      <td>0.030400</td>\n",
       "      <td>-0.464761</td>\n",
       "      <td>-0.018446</td>\n",
       "      <td>-0.841247</td>\n",
       "      <td>0.179941</td>\n",
       "      <td>-0.058627</td>\n",
       "    </tr>\n",
       "    <tr>\n",
       "      <th>1</th>\n",
       "      <th>1</th>\n",
       "      <td>0.278419</td>\n",
       "      <td>-0.016411</td>\n",
       "      <td>-0.123520</td>\n",
       "      <td>-0.998245</td>\n",
       "      <td>-0.975300</td>\n",
       "      <td>-0.960322</td>\n",
       "      <td>-0.998807</td>\n",
       "      <td>-0.974914</td>\n",
       "      <td>-0.957686</td>\n",
       "      <td>-0.943068</td>\n",
       "      <td>...</td>\n",
       "      <td>0.158075</td>\n",
       "      <td>-0.595051</td>\n",
       "      <td>-0.861499</td>\n",
       "      <td>0.053477</td>\n",
       "      <td>-0.007435</td>\n",
       "      <td>-0.732626</td>\n",
       "      <td>0.703511</td>\n",
       "      <td>-0.844788</td>\n",
       "      <td>0.180289</td>\n",
       "      <td>-0.054317</td>\n",
       "    </tr>\n",
       "    <tr>\n",
       "      <th>2</th>\n",
       "      <th>1</th>\n",
       "      <td>0.279653</td>\n",
       "      <td>-0.019467</td>\n",
       "      <td>-0.113462</td>\n",
       "      <td>-0.995380</td>\n",
       "      <td>-0.967187</td>\n",
       "      <td>-0.978944</td>\n",
       "      <td>-0.996520</td>\n",
       "      <td>-0.963668</td>\n",
       "      <td>-0.977469</td>\n",
       "      <td>-0.938692</td>\n",
       "      <td>...</td>\n",
       "      <td>0.414503</td>\n",
       "      <td>-0.390748</td>\n",
       "      <td>-0.760104</td>\n",
       "      <td>-0.118559</td>\n",
       "      <td>0.177899</td>\n",
       "      <td>0.100699</td>\n",
       "      <td>0.808529</td>\n",
       "      <td>-0.848933</td>\n",
       "      <td>0.180637</td>\n",
       "      <td>-0.049118</td>\n",
       "    </tr>\n",
       "    <tr>\n",
       "      <th>3</th>\n",
       "      <th>1</th>\n",
       "      <td>0.279174</td>\n",
       "      <td>-0.026201</td>\n",
       "      <td>-0.123283</td>\n",
       "      <td>-0.996091</td>\n",
       "      <td>-0.983403</td>\n",
       "      <td>-0.990675</td>\n",
       "      <td>-0.997099</td>\n",
       "      <td>-0.982750</td>\n",
       "      <td>-0.989302</td>\n",
       "      <td>-0.938692</td>\n",
       "      <td>...</td>\n",
       "      <td>0.404573</td>\n",
       "      <td>-0.117290</td>\n",
       "      <td>-0.482845</td>\n",
       "      <td>-0.036788</td>\n",
       "      <td>-0.012892</td>\n",
       "      <td>0.640011</td>\n",
       "      <td>-0.485366</td>\n",
       "      <td>-0.848649</td>\n",
       "      <td>0.181935</td>\n",
       "      <td>-0.047663</td>\n",
       "    </tr>\n",
       "    <tr>\n",
       "      <th>4</th>\n",
       "      <th>1</th>\n",
       "      <td>0.276629</td>\n",
       "      <td>-0.016570</td>\n",
       "      <td>-0.115362</td>\n",
       "      <td>-0.998139</td>\n",
       "      <td>-0.980817</td>\n",
       "      <td>-0.990482</td>\n",
       "      <td>-0.998321</td>\n",
       "      <td>-0.979672</td>\n",
       "      <td>-0.990441</td>\n",
       "      <td>-0.942469</td>\n",
       "      <td>...</td>\n",
       "      <td>0.087753</td>\n",
       "      <td>-0.351471</td>\n",
       "      <td>-0.699205</td>\n",
       "      <td>0.123320</td>\n",
       "      <td>0.122542</td>\n",
       "      <td>0.693578</td>\n",
       "      <td>-0.615971</td>\n",
       "      <td>-0.847865</td>\n",
       "      <td>0.185151</td>\n",
       "      <td>-0.043892</td>\n",
       "    </tr>\n",
       "  </tbody>\n",
       "</table>\n",
       "<p>5 rows × 561 columns</p>\n",
       "</div>"
      ],
      "text/plain": [
       "           1 tBodyAcc-mean()-X  2 tBodyAcc-mean()-Y  3 tBodyAcc-mean()-Z  \\\n",
       "  Subject                                                                  \n",
       "0 1                   0.288585            -0.020294            -0.132905   \n",
       "1 1                   0.278419            -0.016411            -0.123520   \n",
       "2 1                   0.279653            -0.019467            -0.113462   \n",
       "3 1                   0.279174            -0.026201            -0.123283   \n",
       "4 1                   0.276629            -0.016570            -0.115362   \n",
       "\n",
       "           4 tBodyAcc-std()-X  5 tBodyAcc-std()-Y  6 tBodyAcc-std()-Z  \\\n",
       "  Subject                                                               \n",
       "0 1                 -0.995279           -0.983111           -0.913526   \n",
       "1 1                 -0.998245           -0.975300           -0.960322   \n",
       "2 1                 -0.995380           -0.967187           -0.978944   \n",
       "3 1                 -0.996091           -0.983403           -0.990675   \n",
       "4 1                 -0.998139           -0.980817           -0.990482   \n",
       "\n",
       "           7 tBodyAcc-mad()-X  8 tBodyAcc-mad()-Y  9 tBodyAcc-mad()-Z  \\\n",
       "  Subject                                                               \n",
       "0 1                 -0.995112           -0.983185           -0.923527   \n",
       "1 1                 -0.998807           -0.974914           -0.957686   \n",
       "2 1                 -0.996520           -0.963668           -0.977469   \n",
       "3 1                 -0.997099           -0.982750           -0.989302   \n",
       "4 1                 -0.998321           -0.979672           -0.990441   \n",
       "\n",
       "           10 tBodyAcc-max()-X  ...  552 fBodyBodyGyroJerkMag-meanFreq()  \\\n",
       "  Subject                       ...                                        \n",
       "0 1                  -0.934724  ...                            -0.074323   \n",
       "1 1                  -0.943068  ...                             0.158075   \n",
       "2 1                  -0.938692  ...                             0.414503   \n",
       "3 1                  -0.938692  ...                             0.404573   \n",
       "4 1                  -0.942469  ...                             0.087753   \n",
       "\n",
       "           553 fBodyBodyGyroJerkMag-skewness()  \\\n",
       "  Subject                                        \n",
       "0 1                                  -0.298676   \n",
       "1 1                                  -0.595051   \n",
       "2 1                                  -0.390748   \n",
       "3 1                                  -0.117290   \n",
       "4 1                                  -0.351471   \n",
       "\n",
       "           554 fBodyBodyGyroJerkMag-kurtosis()  \\\n",
       "  Subject                                        \n",
       "0 1                                  -0.710304   \n",
       "1 1                                  -0.861499   \n",
       "2 1                                  -0.760104   \n",
       "3 1                                  -0.482845   \n",
       "4 1                                  -0.699205   \n",
       "\n",
       "           555 angle(tBodyAccMean,gravity)  \\\n",
       "  Subject                                    \n",
       "0 1                              -0.112754   \n",
       "1 1                               0.053477   \n",
       "2 1                              -0.118559   \n",
       "3 1                              -0.036788   \n",
       "4 1                               0.123320   \n",
       "\n",
       "           556 angle(tBodyAccJerkMean),gravityMean)  \\\n",
       "  Subject                                             \n",
       "0 1                                        0.030400   \n",
       "1 1                                       -0.007435   \n",
       "2 1                                        0.177899   \n",
       "3 1                                       -0.012892   \n",
       "4 1                                        0.122542   \n",
       "\n",
       "           557 angle(tBodyGyroMean,gravityMean)  \\\n",
       "  Subject                                         \n",
       "0 1                                   -0.464761   \n",
       "1 1                                   -0.732626   \n",
       "2 1                                    0.100699   \n",
       "3 1                                    0.640011   \n",
       "4 1                                    0.693578   \n",
       "\n",
       "           558 angle(tBodyGyroJerkMean,gravityMean)  559 angle(X,gravityMean)  \\\n",
       "  Subject                                                                       \n",
       "0 1                                       -0.018446                 -0.841247   \n",
       "1 1                                        0.703511                 -0.844788   \n",
       "2 1                                        0.808529                 -0.848933   \n",
       "3 1                                       -0.485366                 -0.848649   \n",
       "4 1                                       -0.615971                 -0.847865   \n",
       "\n",
       "           560 angle(Y,gravityMean)  561 angle(Z,gravityMean)  \n",
       "  Subject                                                      \n",
       "0 1                        0.179941                 -0.058627  \n",
       "1 1                        0.180289                 -0.054317  \n",
       "2 1                        0.180637                 -0.049118  \n",
       "3 1                        0.181935                 -0.047663  \n",
       "4 1                        0.185151                 -0.043892  \n",
       "\n",
       "[5 rows x 561 columns]"
      ]
     },
     "execution_count": 11,
     "metadata": {},
     "output_type": "execute_result"
    }
   ],
   "source": [
    "# Carregando a base X_train.txt\n",
    "X_train = pd.read_csv('X_train.txt', delim_whitespace=True, header=None)\n",
    "\n",
    "# Fazendo com que as colunas deste dataframe tenham os nomes indicados em features.txt\n",
    "X_train.rename(columns=features, inplace=True)\n",
    "\n",
    "# Sem alterar a ordem dos dataframes, colocando o indicador do indivíduo lido em subject_train.txt como uma variável a mais neste dataframe**\n",
    "X_train['Subject'] = subject_train\n",
    "\n",
    "# Faça com que este dataframe tenha um índice duplo, composto pela ordem dos dados e pelo identificador do indivíduo\n",
    "X_train.set_index('Subject',drop= True, append = True, inplace = True)\n",
    "\n",
    "\n",
    "X_train.head()"
   ]
  },
  {
   "cell_type": "code",
   "execution_count": 15,
   "metadata": {
    "colab": {
     "base_uri": "https://localhost:8080/",
     "height": 510
    },
    "id": "dWT0pyOpIfSH",
    "outputId": "334b3801-d8b5-41b0-a3a4-a2b419e8b7f4"
   },
   "outputs": [
    {
     "data": {
      "text/html": [
       "<div>\n",
       "<style scoped>\n",
       "    .dataframe tbody tr th:only-of-type {\n",
       "        vertical-align: middle;\n",
       "    }\n",
       "\n",
       "    .dataframe tbody tr th {\n",
       "        vertical-align: top;\n",
       "    }\n",
       "\n",
       "    .dataframe thead th {\n",
       "        text-align: right;\n",
       "    }\n",
       "</style>\n",
       "<table border=\"1\" class=\"dataframe\">\n",
       "  <thead>\n",
       "    <tr style=\"text-align: right;\">\n",
       "      <th></th>\n",
       "      <th></th>\n",
       "      <th>1 tBodyAcc-mean()-X</th>\n",
       "      <th>2 tBodyAcc-mean()-Y</th>\n",
       "      <th>3 tBodyAcc-mean()-Z</th>\n",
       "      <th>4 tBodyAcc-std()-X</th>\n",
       "      <th>5 tBodyAcc-std()-Y</th>\n",
       "      <th>6 tBodyAcc-std()-Z</th>\n",
       "      <th>7 tBodyAcc-mad()-X</th>\n",
       "      <th>8 tBodyAcc-mad()-Y</th>\n",
       "      <th>9 tBodyAcc-mad()-Z</th>\n",
       "      <th>10 tBodyAcc-max()-X</th>\n",
       "      <th>...</th>\n",
       "      <th>552 fBodyBodyGyroJerkMag-meanFreq()</th>\n",
       "      <th>553 fBodyBodyGyroJerkMag-skewness()</th>\n",
       "      <th>554 fBodyBodyGyroJerkMag-kurtosis()</th>\n",
       "      <th>555 angle(tBodyAccMean,gravity)</th>\n",
       "      <th>556 angle(tBodyAccJerkMean),gravityMean)</th>\n",
       "      <th>557 angle(tBodyGyroMean,gravityMean)</th>\n",
       "      <th>558 angle(tBodyGyroJerkMean,gravityMean)</th>\n",
       "      <th>559 angle(X,gravityMean)</th>\n",
       "      <th>560 angle(Y,gravityMean)</th>\n",
       "      <th>561 angle(Z,gravityMean)</th>\n",
       "    </tr>\n",
       "    <tr>\n",
       "      <th></th>\n",
       "      <th>subject_test</th>\n",
       "      <th></th>\n",
       "      <th></th>\n",
       "      <th></th>\n",
       "      <th></th>\n",
       "      <th></th>\n",
       "      <th></th>\n",
       "      <th></th>\n",
       "      <th></th>\n",
       "      <th></th>\n",
       "      <th></th>\n",
       "      <th></th>\n",
       "      <th></th>\n",
       "      <th></th>\n",
       "      <th></th>\n",
       "      <th></th>\n",
       "      <th></th>\n",
       "      <th></th>\n",
       "      <th></th>\n",
       "      <th></th>\n",
       "      <th></th>\n",
       "      <th></th>\n",
       "    </tr>\n",
       "  </thead>\n",
       "  <tbody>\n",
       "    <tr>\n",
       "      <th>0</th>\n",
       "      <th>2</th>\n",
       "      <td>0.257178</td>\n",
       "      <td>-0.023285</td>\n",
       "      <td>-0.014654</td>\n",
       "      <td>-0.938404</td>\n",
       "      <td>-0.920091</td>\n",
       "      <td>-0.667683</td>\n",
       "      <td>-0.952501</td>\n",
       "      <td>-0.925249</td>\n",
       "      <td>-0.674302</td>\n",
       "      <td>-0.894088</td>\n",
       "      <td>...</td>\n",
       "      <td>0.071645</td>\n",
       "      <td>-0.330370</td>\n",
       "      <td>-0.705974</td>\n",
       "      <td>0.006462</td>\n",
       "      <td>0.162920</td>\n",
       "      <td>-0.825886</td>\n",
       "      <td>0.271151</td>\n",
       "      <td>-0.720009</td>\n",
       "      <td>0.276801</td>\n",
       "      <td>-0.057978</td>\n",
       "    </tr>\n",
       "    <tr>\n",
       "      <th>1</th>\n",
       "      <th>2</th>\n",
       "      <td>0.286027</td>\n",
       "      <td>-0.013163</td>\n",
       "      <td>-0.119083</td>\n",
       "      <td>-0.975415</td>\n",
       "      <td>-0.967458</td>\n",
       "      <td>-0.944958</td>\n",
       "      <td>-0.986799</td>\n",
       "      <td>-0.968401</td>\n",
       "      <td>-0.945823</td>\n",
       "      <td>-0.894088</td>\n",
       "      <td>...</td>\n",
       "      <td>-0.401189</td>\n",
       "      <td>-0.121845</td>\n",
       "      <td>-0.594944</td>\n",
       "      <td>-0.083495</td>\n",
       "      <td>0.017500</td>\n",
       "      <td>-0.434375</td>\n",
       "      <td>0.920593</td>\n",
       "      <td>-0.698091</td>\n",
       "      <td>0.281343</td>\n",
       "      <td>-0.083898</td>\n",
       "    </tr>\n",
       "    <tr>\n",
       "      <th>2</th>\n",
       "      <th>2</th>\n",
       "      <td>0.275485</td>\n",
       "      <td>-0.026050</td>\n",
       "      <td>-0.118152</td>\n",
       "      <td>-0.993819</td>\n",
       "      <td>-0.969926</td>\n",
       "      <td>-0.962748</td>\n",
       "      <td>-0.994403</td>\n",
       "      <td>-0.970735</td>\n",
       "      <td>-0.963483</td>\n",
       "      <td>-0.939260</td>\n",
       "      <td>...</td>\n",
       "      <td>0.062891</td>\n",
       "      <td>-0.190422</td>\n",
       "      <td>-0.640736</td>\n",
       "      <td>-0.034956</td>\n",
       "      <td>0.202302</td>\n",
       "      <td>0.064103</td>\n",
       "      <td>0.145068</td>\n",
       "      <td>-0.702771</td>\n",
       "      <td>0.280083</td>\n",
       "      <td>-0.079346</td>\n",
       "    </tr>\n",
       "    <tr>\n",
       "      <th>3</th>\n",
       "      <th>2</th>\n",
       "      <td>0.270298</td>\n",
       "      <td>-0.032614</td>\n",
       "      <td>-0.117520</td>\n",
       "      <td>-0.994743</td>\n",
       "      <td>-0.973268</td>\n",
       "      <td>-0.967091</td>\n",
       "      <td>-0.995274</td>\n",
       "      <td>-0.974471</td>\n",
       "      <td>-0.968897</td>\n",
       "      <td>-0.938610</td>\n",
       "      <td>...</td>\n",
       "      <td>0.116695</td>\n",
       "      <td>-0.344418</td>\n",
       "      <td>-0.736124</td>\n",
       "      <td>-0.017067</td>\n",
       "      <td>0.154438</td>\n",
       "      <td>0.340134</td>\n",
       "      <td>0.296407</td>\n",
       "      <td>-0.698954</td>\n",
       "      <td>0.284114</td>\n",
       "      <td>-0.077108</td>\n",
       "    </tr>\n",
       "    <tr>\n",
       "      <th>4</th>\n",
       "      <th>2</th>\n",
       "      <td>0.274833</td>\n",
       "      <td>-0.027848</td>\n",
       "      <td>-0.129527</td>\n",
       "      <td>-0.993852</td>\n",
       "      <td>-0.967445</td>\n",
       "      <td>-0.978295</td>\n",
       "      <td>-0.994111</td>\n",
       "      <td>-0.965953</td>\n",
       "      <td>-0.977346</td>\n",
       "      <td>-0.938610</td>\n",
       "      <td>...</td>\n",
       "      <td>-0.121711</td>\n",
       "      <td>-0.534685</td>\n",
       "      <td>-0.846595</td>\n",
       "      <td>-0.002223</td>\n",
       "      <td>-0.040046</td>\n",
       "      <td>0.736715</td>\n",
       "      <td>-0.118545</td>\n",
       "      <td>-0.692245</td>\n",
       "      <td>0.290722</td>\n",
       "      <td>-0.073857</td>\n",
       "    </tr>\n",
       "  </tbody>\n",
       "</table>\n",
       "<p>5 rows × 561 columns</p>\n",
       "</div>"
      ],
      "text/plain": [
       "                1 tBodyAcc-mean()-X  2 tBodyAcc-mean()-Y  3 tBodyAcc-mean()-Z  \\\n",
       "  subject_test                                                                  \n",
       "0 2                        0.257178            -0.023285            -0.014654   \n",
       "1 2                        0.286027            -0.013163            -0.119083   \n",
       "2 2                        0.275485            -0.026050            -0.118152   \n",
       "3 2                        0.270298            -0.032614            -0.117520   \n",
       "4 2                        0.274833            -0.027848            -0.129527   \n",
       "\n",
       "                4 tBodyAcc-std()-X  5 tBodyAcc-std()-Y  6 tBodyAcc-std()-Z  \\\n",
       "  subject_test                                                               \n",
       "0 2                      -0.938404           -0.920091           -0.667683   \n",
       "1 2                      -0.975415           -0.967458           -0.944958   \n",
       "2 2                      -0.993819           -0.969926           -0.962748   \n",
       "3 2                      -0.994743           -0.973268           -0.967091   \n",
       "4 2                      -0.993852           -0.967445           -0.978295   \n",
       "\n",
       "                7 tBodyAcc-mad()-X  8 tBodyAcc-mad()-Y  9 tBodyAcc-mad()-Z  \\\n",
       "  subject_test                                                               \n",
       "0 2                      -0.952501           -0.925249           -0.674302   \n",
       "1 2                      -0.986799           -0.968401           -0.945823   \n",
       "2 2                      -0.994403           -0.970735           -0.963483   \n",
       "3 2                      -0.995274           -0.974471           -0.968897   \n",
       "4 2                      -0.994111           -0.965953           -0.977346   \n",
       "\n",
       "                10 tBodyAcc-max()-X  ...  552 fBodyBodyGyroJerkMag-meanFreq()  \\\n",
       "  subject_test                       ...                                        \n",
       "0 2                       -0.894088  ...                             0.071645   \n",
       "1 2                       -0.894088  ...                            -0.401189   \n",
       "2 2                       -0.939260  ...                             0.062891   \n",
       "3 2                       -0.938610  ...                             0.116695   \n",
       "4 2                       -0.938610  ...                            -0.121711   \n",
       "\n",
       "                553 fBodyBodyGyroJerkMag-skewness()  \\\n",
       "  subject_test                                        \n",
       "0 2                                       -0.330370   \n",
       "1 2                                       -0.121845   \n",
       "2 2                                       -0.190422   \n",
       "3 2                                       -0.344418   \n",
       "4 2                                       -0.534685   \n",
       "\n",
       "                554 fBodyBodyGyroJerkMag-kurtosis()  \\\n",
       "  subject_test                                        \n",
       "0 2                                       -0.705974   \n",
       "1 2                                       -0.594944   \n",
       "2 2                                       -0.640736   \n",
       "3 2                                       -0.736124   \n",
       "4 2                                       -0.846595   \n",
       "\n",
       "                555 angle(tBodyAccMean,gravity)  \\\n",
       "  subject_test                                    \n",
       "0 2                                    0.006462   \n",
       "1 2                                   -0.083495   \n",
       "2 2                                   -0.034956   \n",
       "3 2                                   -0.017067   \n",
       "4 2                                   -0.002223   \n",
       "\n",
       "                556 angle(tBodyAccJerkMean),gravityMean)  \\\n",
       "  subject_test                                             \n",
       "0 2                                             0.162920   \n",
       "1 2                                             0.017500   \n",
       "2 2                                             0.202302   \n",
       "3 2                                             0.154438   \n",
       "4 2                                            -0.040046   \n",
       "\n",
       "                557 angle(tBodyGyroMean,gravityMean)  \\\n",
       "  subject_test                                         \n",
       "0 2                                        -0.825886   \n",
       "1 2                                        -0.434375   \n",
       "2 2                                         0.064103   \n",
       "3 2                                         0.340134   \n",
       "4 2                                         0.736715   \n",
       "\n",
       "                558 angle(tBodyGyroJerkMean,gravityMean)  \\\n",
       "  subject_test                                             \n",
       "0 2                                             0.271151   \n",
       "1 2                                             0.920593   \n",
       "2 2                                             0.145068   \n",
       "3 2                                             0.296407   \n",
       "4 2                                            -0.118545   \n",
       "\n",
       "                559 angle(X,gravityMean)  560 angle(Y,gravityMean)  \\\n",
       "  subject_test                                                       \n",
       "0 2                            -0.720009                  0.276801   \n",
       "1 2                            -0.698091                  0.281343   \n",
       "2 2                            -0.702771                  0.280083   \n",
       "3 2                            -0.698954                  0.284114   \n",
       "4 2                            -0.692245                  0.290722   \n",
       "\n",
       "                561 angle(Z,gravityMean)  \n",
       "  subject_test                            \n",
       "0 2                            -0.057978  \n",
       "1 2                            -0.083898  \n",
       "2 2                            -0.079346  \n",
       "3 2                            -0.077108  \n",
       "4 2                            -0.073857  \n",
       "\n",
       "[5 rows x 561 columns]"
      ]
     },
     "execution_count": 15,
     "metadata": {},
     "output_type": "execute_result"
    }
   ],
   "source": [
    "'''\n",
    "Carregando a base X_test\n",
    "Certificando que tenha os nomes lidos em features.txt\n",
    "Colocando o identificador do sujeito lido em subject_test.txt\n",
    "Definindo um índice duplo composto pela ordem do registro e o identificador do registro\n",
    "'''\n",
    "\n",
    "subject_test = pd.read_csv('subject_test.txt', delimiter=' ', header=None)\n",
    "subject_test = subject_test.squeeze()\n",
    "\n",
    "X_test = (pd.read_csv('X_test.txt', header=None, names=features, delim_whitespace=True).assign(subject_test=subject_test))\n",
    "X_test.set_index(keys='subject_test', drop=True, append=True, inplace=True)\n",
    "\n",
    "X_test.head()\n"
   ]
  },
  {
   "cell_type": "code",
   "execution_count": 18,
   "metadata": {
    "id": "d08UMvrsOmJj"
   },
   "outputs": [],
   "source": [
    "# Salvando as bases em arquivos CSV\n",
    "\n",
    "os.makedirs(name='./output', exist_ok=True)\n",
    "X_train.to_csv(path_or_buf='./output/X_train.csv')\n",
    "X_test.to_csv(path_or_buf='./output/X_test.csv')"
   ]
  },
  {
   "cell_type": "code",
   "execution_count": 25,
   "metadata": {
    "id": "Ou1FfVvlPki0"
   },
   "outputs": [],
   "source": [
    "# Selecionando apenas as três primeiras colunas da base ('tBodyAcc-mean()-X', 'tBodyAcc-mean()-Y' e 'tBodyAcc-mean()-Z')\n",
    "\n",
    "X_train_3 = X_train[['1 tBodyAcc-mean()-X','2 tBodyAcc-mean()-Y','3 tBodyAcc-mean()-Z']]\n",
    "X_test_3 = X_test[['1 tBodyAcc-mean()-X','2 tBodyAcc-mean()-Y','3 tBodyAcc-mean()-Z']]\n",
    "\n"
   ]
  },
  {
   "cell_type": "code",
   "execution_count": 24,
   "metadata": {},
   "outputs": [
    {
     "data": {
      "text/html": [
       "<div>\n",
       "<style scoped>\n",
       "    .dataframe tbody tr th:only-of-type {\n",
       "        vertical-align: middle;\n",
       "    }\n",
       "\n",
       "    .dataframe tbody tr th {\n",
       "        vertical-align: top;\n",
       "    }\n",
       "\n",
       "    .dataframe thead th {\n",
       "        text-align: right;\n",
       "    }\n",
       "</style>\n",
       "<table border=\"1\" class=\"dataframe\">\n",
       "  <thead>\n",
       "    <tr style=\"text-align: right;\">\n",
       "      <th></th>\n",
       "      <th></th>\n",
       "      <th>1 tBodyAcc-mean()-X</th>\n",
       "      <th>2 tBodyAcc-mean()-Y</th>\n",
       "      <th>3 tBodyAcc-mean()-Z</th>\n",
       "    </tr>\n",
       "    <tr>\n",
       "      <th></th>\n",
       "      <th>Subject</th>\n",
       "      <th></th>\n",
       "      <th></th>\n",
       "      <th></th>\n",
       "    </tr>\n",
       "  </thead>\n",
       "  <tbody>\n",
       "    <tr>\n",
       "      <th>0</th>\n",
       "      <th>1</th>\n",
       "      <td>0.288585</td>\n",
       "      <td>-0.020294</td>\n",
       "      <td>-0.132905</td>\n",
       "    </tr>\n",
       "  </tbody>\n",
       "</table>\n",
       "</div>"
      ],
      "text/plain": [
       "           1 tBodyAcc-mean()-X  2 tBodyAcc-mean()-Y  3 tBodyAcc-mean()-Z\n",
       "  Subject                                                               \n",
       "0 1                   0.288585            -0.020294            -0.132905"
      ]
     },
     "execution_count": 24,
     "metadata": {},
     "output_type": "execute_result"
    }
   ],
   "source": [
    "# Apenas confirmando\n",
    "X_train_3.head(1)"
   ]
  },
  {
   "cell_type": "code",
   "execution_count": 26,
   "metadata": {},
   "outputs": [
    {
     "data": {
      "text/html": [
       "<div>\n",
       "<style scoped>\n",
       "    .dataframe tbody tr th:only-of-type {\n",
       "        vertical-align: middle;\n",
       "    }\n",
       "\n",
       "    .dataframe tbody tr th {\n",
       "        vertical-align: top;\n",
       "    }\n",
       "\n",
       "    .dataframe thead th {\n",
       "        text-align: right;\n",
       "    }\n",
       "</style>\n",
       "<table border=\"1\" class=\"dataframe\">\n",
       "  <thead>\n",
       "    <tr style=\"text-align: right;\">\n",
       "      <th></th>\n",
       "      <th></th>\n",
       "      <th>1 tBodyAcc-mean()-X</th>\n",
       "      <th>2 tBodyAcc-mean()-Y</th>\n",
       "      <th>3 tBodyAcc-mean()-Z</th>\n",
       "    </tr>\n",
       "    <tr>\n",
       "      <th></th>\n",
       "      <th>subject_test</th>\n",
       "      <th></th>\n",
       "      <th></th>\n",
       "      <th></th>\n",
       "    </tr>\n",
       "  </thead>\n",
       "  <tbody>\n",
       "    <tr>\n",
       "      <th>0</th>\n",
       "      <th>2</th>\n",
       "      <td>0.257178</td>\n",
       "      <td>-0.023285</td>\n",
       "      <td>-0.014654</td>\n",
       "    </tr>\n",
       "  </tbody>\n",
       "</table>\n",
       "</div>"
      ],
      "text/plain": [
       "                1 tBodyAcc-mean()-X  2 tBodyAcc-mean()-Y  3 tBodyAcc-mean()-Z\n",
       "  subject_test                                                               \n",
       "0 2                        0.257178            -0.023285            -0.014654"
      ]
     },
     "execution_count": 26,
     "metadata": {},
     "output_type": "execute_result"
    }
   ],
   "source": [
    "# Apenas confirmando\n",
    "X_test_3.head(1)"
   ]
  },
  {
   "cell_type": "markdown",
   "metadata": {
    "id": "ADwDmvZPFeq3"
   },
   "source": [
    "### 2. Ajustar uma árvore de decisão\n",
    "\n",
    "- 2.1 ajuste uma árvore de decisão com número mínimo de observações por folha = 20. Certifique-se de que você esteja utilizando apenas as 3 variáveis indicadas no exercício anterior.\n",
    "- 2.2 Calcule os ccp_alphas. Como feito em aula, certifique-se de que todos os valores são positivos, e selecione apenas valores únicos.\n",
    "- 2.3 Considere que vamos fazer uma árvore para cada valor de ```ccp_alpha```. Para ter um pouco mais de velocidade, crie uma coleção de dados com os ```ccp_alphas```, considerando apenas 1 a cada 5 valores. Dica: utilize o slicing do tipo ```array[::5]``` para isto. Caso se sinta seguro, fique à vontade para utilizar mais valores de ```ccp_alpha```."
   ]
  },
  {
   "cell_type": "code",
   "execution_count": 27,
   "metadata": {
    "colab": {
     "base_uri": "https://localhost:8080/",
     "height": 75
    },
    "id": "dZKKOetWFeq4",
    "outputId": "ea18e6a1-3761-4e6a-909c-93a2094c0a04"
   },
   "outputs": [
    {
     "data": {
      "text/html": [
       "<style>#sk-container-id-1 {color: black;background-color: white;}#sk-container-id-1 pre{padding: 0;}#sk-container-id-1 div.sk-toggleable {background-color: white;}#sk-container-id-1 label.sk-toggleable__label {cursor: pointer;display: block;width: 100%;margin-bottom: 0;padding: 0.3em;box-sizing: border-box;text-align: center;}#sk-container-id-1 label.sk-toggleable__label-arrow:before {content: \"▸\";float: left;margin-right: 0.25em;color: #696969;}#sk-container-id-1 label.sk-toggleable__label-arrow:hover:before {color: black;}#sk-container-id-1 div.sk-estimator:hover label.sk-toggleable__label-arrow:before {color: black;}#sk-container-id-1 div.sk-toggleable__content {max-height: 0;max-width: 0;overflow: hidden;text-align: left;background-color: #f0f8ff;}#sk-container-id-1 div.sk-toggleable__content pre {margin: 0.2em;color: black;border-radius: 0.25em;background-color: #f0f8ff;}#sk-container-id-1 input.sk-toggleable__control:checked~div.sk-toggleable__content {max-height: 200px;max-width: 100%;overflow: auto;}#sk-container-id-1 input.sk-toggleable__control:checked~label.sk-toggleable__label-arrow:before {content: \"▾\";}#sk-container-id-1 div.sk-estimator input.sk-toggleable__control:checked~label.sk-toggleable__label {background-color: #d4ebff;}#sk-container-id-1 div.sk-label input.sk-toggleable__control:checked~label.sk-toggleable__label {background-color: #d4ebff;}#sk-container-id-1 input.sk-hidden--visually {border: 0;clip: rect(1px 1px 1px 1px);clip: rect(1px, 1px, 1px, 1px);height: 1px;margin: -1px;overflow: hidden;padding: 0;position: absolute;width: 1px;}#sk-container-id-1 div.sk-estimator {font-family: monospace;background-color: #f0f8ff;border: 1px dotted black;border-radius: 0.25em;box-sizing: border-box;margin-bottom: 0.5em;}#sk-container-id-1 div.sk-estimator:hover {background-color: #d4ebff;}#sk-container-id-1 div.sk-parallel-item::after {content: \"\";width: 100%;border-bottom: 1px solid gray;flex-grow: 1;}#sk-container-id-1 div.sk-label:hover label.sk-toggleable__label {background-color: #d4ebff;}#sk-container-id-1 div.sk-serial::before {content: \"\";position: absolute;border-left: 1px solid gray;box-sizing: border-box;top: 0;bottom: 0;left: 50%;z-index: 0;}#sk-container-id-1 div.sk-serial {display: flex;flex-direction: column;align-items: center;background-color: white;padding-right: 0.2em;padding-left: 0.2em;position: relative;}#sk-container-id-1 div.sk-item {position: relative;z-index: 1;}#sk-container-id-1 div.sk-parallel {display: flex;align-items: stretch;justify-content: center;background-color: white;position: relative;}#sk-container-id-1 div.sk-item::before, #sk-container-id-1 div.sk-parallel-item::before {content: \"\";position: absolute;border-left: 1px solid gray;box-sizing: border-box;top: 0;bottom: 0;left: 50%;z-index: -1;}#sk-container-id-1 div.sk-parallel-item {display: flex;flex-direction: column;z-index: 1;position: relative;background-color: white;}#sk-container-id-1 div.sk-parallel-item:first-child::after {align-self: flex-end;width: 50%;}#sk-container-id-1 div.sk-parallel-item:last-child::after {align-self: flex-start;width: 50%;}#sk-container-id-1 div.sk-parallel-item:only-child::after {width: 0;}#sk-container-id-1 div.sk-dashed-wrapped {border: 1px dashed gray;margin: 0 0.4em 0.5em 0.4em;box-sizing: border-box;padding-bottom: 0.4em;background-color: white;}#sk-container-id-1 div.sk-label label {font-family: monospace;font-weight: bold;display: inline-block;line-height: 1.2em;}#sk-container-id-1 div.sk-label-container {text-align: center;}#sk-container-id-1 div.sk-container {/* jupyter's `normalize.less` sets `[hidden] { display: none; }` but bootstrap.min.css set `[hidden] { display: none !important; }` so we also need the `!important` here to be able to override the default hidden behavior on the sphinx rendered scikit-learn.org. See: https://github.com/scikit-learn/scikit-learn/issues/21755 */display: inline-block !important;position: relative;}#sk-container-id-1 div.sk-text-repr-fallback {display: none;}</style><div id=\"sk-container-id-1\" class=\"sk-top-container\"><div class=\"sk-text-repr-fallback\"><pre>DecisionTreeClassifier(min_samples_leaf=20, random_state=42)</pre><b>In a Jupyter environment, please rerun this cell to show the HTML representation or trust the notebook. <br />On GitHub, the HTML representation is unable to render, please try loading this page with nbviewer.org.</b></div><div class=\"sk-container\" hidden><div class=\"sk-item\"><div class=\"sk-estimator sk-toggleable\"><input class=\"sk-toggleable__control sk-hidden--visually\" id=\"sk-estimator-id-1\" type=\"checkbox\" checked><label for=\"sk-estimator-id-1\" class=\"sk-toggleable__label sk-toggleable__label-arrow\">DecisionTreeClassifier</label><div class=\"sk-toggleable__content\"><pre>DecisionTreeClassifier(min_samples_leaf=20, random_state=42)</pre></div></div></div></div></div>"
      ],
      "text/plain": [
       "DecisionTreeClassifier(min_samples_leaf=20, random_state=42)"
      ]
     },
     "execution_count": 27,
     "metadata": {},
     "output_type": "execute_result"
    }
   ],
   "source": [
    "# Ajustando uma árvore de decisão com número mínimo de observações por folha = 20.\n",
    "clf = DecisionTreeClassifier(min_samples_leaf=20, random_state=42)\n",
    "clf"
   ]
  },
  {
   "cell_type": "code",
   "execution_count": 29,
   "metadata": {
    "colab": {
     "base_uri": "https://localhost:8080/"
    },
    "id": "aQeiOb_IQm7I",
    "outputId": "8c7bb0c3-3345-4e71-c25b-0297cfef9019"
   },
   "outputs": [
    {
     "data": {
      "text/plain": [
       "{'ccp_alphas': array([0.00000000e+00, 7.12472149e-06, 7.41913147e-06, 8.91148550e-06,\n",
       "        1.32341264e-05, 1.33132630e-05, 1.98214192e-05, 2.65359119e-05,\n",
       "        3.56459420e-05, 4.20267568e-05, 4.20417450e-05, 4.96964044e-05,\n",
       "        5.02312390e-05, 6.13522231e-05, 1.08813928e-04, 1.18184358e-04,\n",
       "        1.27495350e-04, 1.89159199e-04, 2.49391780e-04, 2.55980306e-04,\n",
       "        2.83929989e-04, 2.97638098e-04, 3.41177004e-04, 3.88783098e-04,\n",
       "        4.13522095e-04, 4.36662789e-04, 5.44674298e-04, 7.79039476e-04,\n",
       "        7.80275485e-04, 7.89338622e-04, 8.77587644e-04, 9.33232150e-04,\n",
       "        1.22995084e-03, 1.32286622e-03, 1.56448380e-03, 1.58565659e-03,\n",
       "        1.63415203e-03, 1.63595958e-03, 1.69580972e-03, 1.73676006e-03,\n",
       "        1.93571957e-03, 2.02476613e-03, 2.03801886e-03, 2.04943913e-03,\n",
       "        2.07826244e-03, 2.23027206e-03, 2.37966530e-03, 2.41999829e-03,\n",
       "        2.90724611e-03, 3.17598400e-03, 3.44050914e-03, 4.87948849e-03,\n",
       "        5.50087182e-03, 6.94303935e-03, 7.42872230e-03, 9.92305929e-03,\n",
       "        1.07651549e-02, 1.17869342e-02, 1.88599508e-02, 7.98964351e-02,\n",
       "        9.08568244e-02, 1.09363718e-01, 1.67257720e-01, 1.86138242e-01]),\n",
       " 'impurities': array([0.05676836, 0.05677549, 0.0567829 , 0.05679182, 0.05680505,\n",
       "        0.05681836, 0.05683818, 0.05689126, 0.0569269 , 0.05696893,\n",
       "        0.05701097, 0.05706067, 0.05716113, 0.05722248, 0.0573313 ,\n",
       "        0.05744948, 0.05757698, 0.05776613, 0.05801553, 0.05827151,\n",
       "        0.05855544, 0.05885307, 0.05919425, 0.05958304, 0.06041008,\n",
       "        0.06084674, 0.06139142, 0.0629495 , 0.06372977, 0.06530845,\n",
       "        0.06618604, 0.06711927, 0.06834922, 0.07099495, 0.07725289,\n",
       "        0.07883854, 0.08047269, 0.08374461, 0.08544042, 0.08717718,\n",
       "        0.0891129 , 0.09113767, 0.09317569, 0.09522513, 0.09730339,\n",
       "        0.09953366, 0.10191333, 0.10675332, 0.10966057, 0.11283655,\n",
       "        0.11627706, 0.12603604, 0.13153691, 0.13847995, 0.14590867,\n",
       "        0.15583173, 0.16659689, 0.17838382, 0.19724377, 0.27714021,\n",
       "        0.36799703, 0.47736075, 0.64461847, 0.83075671])}"
      ]
     },
     "execution_count": 29,
     "metadata": {},
     "output_type": "execute_result"
    }
   ],
   "source": [
    "# Calcuando os ccp_alphas\n",
    "y_train = (pd.read_csv('y_train.txt', header=None).squeeze('columns'))\n",
    "y_test = (pd.read_csv('y_test.txt', header=None).squeeze('columns'))\n",
    "\n",
    "path = clf.cost_complexity_pruning_path(X=X_train, y=y_train)\n",
    "path\n"
   ]
  },
  {
   "cell_type": "code",
   "execution_count": 30,
   "metadata": {
    "colab": {
     "base_uri": "https://localhost:8080/"
    },
    "id": "OCrn2UOpRux7",
    "outputId": "323c1fb4-fe0d-4f7d-e106-5561daf28bc5"
   },
   "outputs": [
    {
     "name": "stdout",
     "output_type": "stream",
     "text": [
      "Tamanho total de ccp_alphas: 64\n",
      "Tamanho reduzido de ccp_alphas: 13\n"
     ]
    }
   ],
   "source": [
    "# Considerando que vamos fazer uma árvore para cada valor de ccp_alpha\n",
    "\n",
    "print('Tamanho total de ccp_alphas:', len(path.ccp_alphas))\n",
    "print('Tamanho reduzido de ccp_alphas:', len(path.ccp_alphas[::5]))\n",
    "\n",
    "ccp_alphas, impurities = path.ccp_alphas[::5], path.impurities[::5]"
   ]
  },
  {
   "cell_type": "markdown",
   "metadata": {
    "id": "pwrzBjoeFeq4"
   },
   "source": [
    "### 3. Desempenho da árvore por ccp_alpha\n",
    "\n",
    "- 3.1: Rode uma árvore para cada ```ccp_alpha```, salvando cada árvore em uma lista\n",
    "- 3.2: Calcule a acurácia de cada árvore na base de treinamento e de teste\n",
    "- 3.3: Monte um gráfico da acurácia em função do ```ccp_alpha``` na base de validação e na base de teste\n",
    "- 3.4: Selecione a melhor árvore como sendo aquela que possui melhor acurácia na base de teste\n",
    "- 3.5: Qual a melhor acurácia que se pode obter com estas três variáveis?\n",
    "\n",
    "**Dica:** utilize a estrutura do notebook apresentado em aula.  \n",
    "**Dica 2:** meça o tempo com a função mágica ```%%time``` na primeira linha da célula.  \n",
    "**Sugestão:** caso fique confortável com o tempo de execução, faça a busca pelo melhor ```ccp_alpha``` com mais iterações.  \n",
    "**Sugestão 2:** caso fique confortável com o tempo de execução, tente inserir uma ou mais variáveis adicionais e veja se consegue aumentar a acurácia."
   ]
  },
  {
   "cell_type": "code",
   "execution_count": 46,
   "metadata": {
    "colab": {
     "base_uri": "https://localhost:8080/"
    },
    "id": "pTpfu1ojFeq4",
    "outputId": "1e28cde6-8ad7-4fff-b5c6-0b34dbfec0c7"
   },
   "outputs": [
    {
     "name": "stdout",
     "output_type": "stream",
     "text": [
      "CPU times: total: 297 ms\n",
      "Wall time: 581 ms\n"
     ]
    }
   ],
   "source": [
    "%%time\n",
    "# Rodando uma árvore para cada ccp_alpha, salvando cada árvore em uma lista\n",
    "clfs = []\n",
    "\n",
    "for ccp_alpha in ccp_alphas:\n",
    "    clf = DecisionTreeClassifier(random_state=42, ccp_alpha=ccp_alpha).fit(X_train_3, y_train)\n",
    "    clfs.append(clf)\n"
   ]
  },
  {
   "cell_type": "code",
   "execution_count": 50,
   "metadata": {
    "colab": {
     "base_uri": "https://localhost:8080/"
    },
    "id": "X2kunneCTTFd",
    "outputId": "38cc03c5-11f1-4af0-bcce-c0f5e3238342"
   },
   "outputs": [
    {
     "name": "stdout",
     "output_type": "stream",
     "text": [
      "Acurácia do treinamento: 1.0\n",
      "Acurácia do teste: 0.44248388191381066\n",
      "CPU times: total: 31.2 ms\n",
      "Wall time: 62.5 ms\n"
     ]
    }
   ],
   "source": [
    "%%time\n",
    "# Calculando a acurácia de cada árvore na base de treinamento e de teste\n",
    "\n",
    "train_acur = [clf.score(X_train_3, y_train) for clf in clfs]\n",
    "test_acur = [clf.score(X_test_3, y_test) for clf in clfs]\n",
    "\n",
    "print('Acurácia do treinamento:', max(train_acur))\n",
    "print('Acurácia do teste:', max(test_acur))"
   ]
  },
  {
   "cell_type": "code",
   "execution_count": 41,
   "metadata": {},
   "outputs": [],
   "source": []
  },
  {
   "cell_type": "code",
   "execution_count": 51,
   "metadata": {
    "colab": {
     "base_uri": "https://localhost:8080/",
     "height": 472
    },
    "id": "S2kfjbUNTYv3",
    "outputId": "db29feb9-949a-4d46-d855-0d4934ad4f3b"
   },
   "outputs": [
    {
     "data": {
      "image/png": "[encoded data removed]",
      "text/plain": [
       "<Figure size 640x480 with 1 Axes>"
      ]
     },
     "metadata": {},
     "output_type": "display_data"
    }
   ],
   "source": [
    "# Montando um gráfico da acurácia em função do ccp_alpha na base de validação e na base de teste\n",
    "\n",
    "fig, ax = plt.subplots()\n",
    "\n",
    "ax.set_xlabel('alpha')\n",
    "ax.set_ylabel('Acurácia')\n",
    "ax.set_title('Acurácia & Alpha')\n",
    "\n",
    "ax.plot(ccp_alphas, train_acur, marker='o', label='treino', drawstyle='steps-post')\n",
    "ax.plot(ccp_alphas, test_acur, marker='o', label='teste', drawstyle='steps-post')\n",
    "\n",
    "ax.legend()\n",
    "plt.show()"
   ]
  },
  {
   "cell_type": "code",
   "execution_count": 54,
   "metadata": {
    "colab": {
     "base_uri": "https://localhost:8080/",
     "height": 75
    },
    "id": "DkHcfd9HTZ51",
    "outputId": "afdcc981-76b3-43ce-ea99-aa2be946e912"
   },
   "outputs": [
    {
     "name": "stdout",
     "output_type": "stream",
     "text": [
      "CPU times: total: 0 ns\n",
      "Wall time: 0 ns\n"
     ]
    },
    {
     "data": {
      "text/html": [
       "<style>#sk-container-id-2 {color: black;background-color: white;}#sk-container-id-2 pre{padding: 0;}#sk-container-id-2 div.sk-toggleable {background-color: white;}#sk-container-id-2 label.sk-toggleable__label {cursor: pointer;display: block;width: 100%;margin-bottom: 0;padding: 0.3em;box-sizing: border-box;text-align: center;}#sk-container-id-2 label.sk-toggleable__label-arrow:before {content: \"▸\";float: left;margin-right: 0.25em;color: #696969;}#sk-container-id-2 label.sk-toggleable__label-arrow:hover:before {color: black;}#sk-container-id-2 div.sk-estimator:hover label.sk-toggleable__label-arrow:before {color: black;}#sk-container-id-2 div.sk-toggleable__content {max-height: 0;max-width: 0;overflow: hidden;text-align: left;background-color: #f0f8ff;}#sk-container-id-2 div.sk-toggleable__content pre {margin: 0.2em;color: black;border-radius: 0.25em;background-color: #f0f8ff;}#sk-container-id-2 input.sk-toggleable__control:checked~div.sk-toggleable__content {max-height: 200px;max-width: 100%;overflow: auto;}#sk-container-id-2 input.sk-toggleable__control:checked~label.sk-toggleable__label-arrow:before {content: \"▾\";}#sk-container-id-2 div.sk-estimator input.sk-toggleable__control:checked~label.sk-toggleable__label {background-color: #d4ebff;}#sk-container-id-2 div.sk-label input.sk-toggleable__control:checked~label.sk-toggleable__label {background-color: #d4ebff;}#sk-container-id-2 input.sk-hidden--visually {border: 0;clip: rect(1px 1px 1px 1px);clip: rect(1px, 1px, 1px, 1px);height: 1px;margin: -1px;overflow: hidden;padding: 0;position: absolute;width: 1px;}#sk-container-id-2 div.sk-estimator {font-family: monospace;background-color: #f0f8ff;border: 1px dotted black;border-radius: 0.25em;box-sizing: border-box;margin-bottom: 0.5em;}#sk-container-id-2 div.sk-estimator:hover {background-color: #d4ebff;}#sk-container-id-2 div.sk-parallel-item::after {content: \"\";width: 100%;border-bottom: 1px solid gray;flex-grow: 1;}#sk-container-id-2 div.sk-label:hover label.sk-toggleable__label {background-color: #d4ebff;}#sk-container-id-2 div.sk-serial::before {content: \"\";position: absolute;border-left: 1px solid gray;box-sizing: border-box;top: 0;bottom: 0;left: 50%;z-index: 0;}#sk-container-id-2 div.sk-serial {display: flex;flex-direction: column;align-items: center;background-color: white;padding-right: 0.2em;padding-left: 0.2em;position: relative;}#sk-container-id-2 div.sk-item {position: relative;z-index: 1;}#sk-container-id-2 div.sk-parallel {display: flex;align-items: stretch;justify-content: center;background-color: white;position: relative;}#sk-container-id-2 div.sk-item::before, #sk-container-id-2 div.sk-parallel-item::before {content: \"\";position: absolute;border-left: 1px solid gray;box-sizing: border-box;top: 0;bottom: 0;left: 50%;z-index: -1;}#sk-container-id-2 div.sk-parallel-item {display: flex;flex-direction: column;z-index: 1;position: relative;background-color: white;}#sk-container-id-2 div.sk-parallel-item:first-child::after {align-self: flex-end;width: 50%;}#sk-container-id-2 div.sk-parallel-item:last-child::after {align-self: flex-start;width: 50%;}#sk-container-id-2 div.sk-parallel-item:only-child::after {width: 0;}#sk-container-id-2 div.sk-dashed-wrapped {border: 1px dashed gray;margin: 0 0.4em 0.5em 0.4em;box-sizing: border-box;padding-bottom: 0.4em;background-color: white;}#sk-container-id-2 div.sk-label label {font-family: monospace;font-weight: bold;display: inline-block;line-height: 1.2em;}#sk-container-id-2 div.sk-label-container {text-align: center;}#sk-container-id-2 div.sk-container {/* jupyter's `normalize.less` sets `[hidden] { display: none; }` but bootstrap.min.css set `[hidden] { display: none !important; }` so we also need the `!important` here to be able to override the default hidden behavior on the sphinx rendered scikit-learn.org. See: https://github.com/scikit-learn/scikit-learn/issues/21755 */display: inline-block !important;position: relative;}#sk-container-id-2 div.sk-text-repr-fallback {display: none;}</style><div id=\"sk-container-id-2\" class=\"sk-top-container\"><div class=\"sk-text-repr-fallback\"><pre>DecisionTreeClassifier(ccp_alpha=0.00043666278938876636, random_state=42)</pre><b>In a Jupyter environment, please rerun this cell to show the HTML representation or trust the notebook. <br />On GitHub, the HTML representation is unable to render, please try loading this page with nbviewer.org.</b></div><div class=\"sk-container\" hidden><div class=\"sk-item\"><div class=\"sk-estimator sk-toggleable\"><input class=\"sk-toggleable__control sk-hidden--visually\" id=\"sk-estimator-id-2\" type=\"checkbox\" checked><label for=\"sk-estimator-id-2\" class=\"sk-toggleable__label sk-toggleable__label-arrow\">DecisionTreeClassifier</label><div class=\"sk-toggleable__content\"><pre>DecisionTreeClassifier(ccp_alpha=0.00043666278938876636, random_state=42)</pre></div></div></div></div></div>"
      ],
      "text/plain": [
       "DecisionTreeClassifier(ccp_alpha=0.00043666278938876636, random_state=42)"
      ]
     },
     "execution_count": 54,
     "metadata": {},
     "output_type": "execute_result"
    }
   ],
   "source": [
    "%%time\n",
    "# Selecionando a melhor árvore como sendo aquela que possui melhor acurácia na base de teste\n",
    "\n",
    "ind_best_tree = len(test_acur) - test_acur[::-1].index(max(test_acur)) - 1\n",
    "best_tree = clfs[ind_best_tree]\n",
    "best_tree"
   ]
  },
  {
   "cell_type": "code",
   "execution_count": 55,
   "metadata": {
    "colab": {
     "base_uri": "https://localhost:8080/"
    },
    "id": "77MnYSoRTj4A",
    "outputId": "7401f23d-dc81-46ad-b4e9-234c53402b1a"
   },
   "outputs": [
    {
     "name": "stdout",
     "output_type": "stream",
     "text": [
      "Acurácia: 44.25%\n"
     ]
    }
   ],
   "source": [
    "# A melhor acurácia que se pode obter com estas três variáveis é...\n",
    "\n",
    "print(f\"Acurácia: {best_tree.score(X_test_3, y_test)*100:.2f}%\")"
   ]
  },
  {
   "cell_type": "code",
   "execution_count": 37,
   "metadata": {
    "id": "QyS7HNA7UGPK"
   },
   "outputs": [],
   "source": []
  }
 ],
 "metadata": {
  "colab": {
   "provenance": []
  },
  "kernelspec": {
   "display_name": "Python 3 (ipykernel)",
   "language": "python",
   "name": "python3"
  },
  "language_info": {
   "codemirror_mode": {
    "name": "ipython",
    "version": 3
   },
   "file_extension": ".py",
   "mimetype": "text/x-python",
   "name": "python",
   "nbconvert_exporter": "python",
   "pygments_lexer": "ipython3",
   "version": "3.11.7"
  }
 },
 "nbformat": 4,
 "nbformat_minor": 4
}
