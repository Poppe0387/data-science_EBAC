{
 "cells": [
  {
   "cell_type": "code",
   "execution_count": 4,
   "metadata": {},
   "outputs": [],
   "source": [
    "import numpy as np\n",
    "import pandas as pd\n",
    "import seaborn as sns\n",
    "import matplotlib.pyplot as plt\n",
    "\n",
    "from sklearn.tree import plot_tree\n",
    "from sklearn.tree import DecisionTreeClassifier\n",
    "\n",
    "from sklearn.metrics import accuracy_score\n",
    "from sklearn.metrics import confusion_matrix, ConfusionMatrixDisplay\n",
    "\n",
    "from sklearn.model_selection import train_test_split\n",
    "from sklearn.model_selection import cross_val_score\n"
   ]
  },
  {
   "cell_type": "markdown",
   "metadata": {},
   "source": [
    "# Módulo 07 - Tarefa 02\n",
    "\n",
    "#### 1) Carregue a base e garanta que a base está como deveria.\n",
    "\n",
    "Considere a base que você ajustou na lição passada. Carregue-a. Caso ainda haja alguma pendência, ajuste - lembre-se de que o scikitlearn não recebe variáveis em formato string, somente numéricas, e não aceita '*missings*'. \n",
    "\n",
    "- Separe 70% da base para treinamento e 30% para validação. Cada uma dessas partes terá dois objetos, um armazenando a variável resposta ```mau```e outro armazenando as variáveis explicativas (lembrando: sem variáveis string, já com as dummies)."
   ]
  },
  {
   "cell_type": "code",
   "execution_count": 39,
   "metadata": {},
   "outputs": [],
   "source": [
    "r = pd.read_csv('demo01.csv')\n",
    "df = pd.DataFrame(r)\n",
    "\n"
   ]
  },
  {
   "cell_type": "code",
   "execution_count": 41,
   "metadata": {},
   "outputs": [],
   "source": [
    "# Removendo variáveis string e criando dummies\n",
    "df = pd.get_dummies(df, drop_first=True)\n",
    "\n",
    "# Separando variável resposta e variáveis explicativas\n",
    "X = df.drop('mau', axis=1)\n",
    "y = df['mau']\n",
    "\n",
    "# Dividindo o conjunto de dados em treinamento (70%) e validação (30%)\n",
    "X_train, X_val, y_train, y_val = train_test_split(X, y, test_size=0.3, random_state=42)\n",
    "\n"
   ]
  },
  {
   "cell_type": "markdown",
   "metadata": {},
   "source": [
    "#### 2) Vamos para o modelo:\n",
    "\n",
    "1. Defina um objeto com a função da árvore de decisão vista em aula.\n",
    "2. Treine o modelo com os dados que você separou para treinamento.\n",
    "3. Visualize a árvore. Talvez você queira aumentar um pouco a figura.\n",
    "4. Produza uma visualização da matriz de classificação (ou matriz de confusão) - coloque os rótulos como \"aprovados\" e \"reprovados\" - pois afinal de contas, são essas as decisões que se podem tomar com propostas de crédito.\n",
    "5. Calcule a acurácia na base de treinamento"
   ]
  },
  {
   "cell_type": "code",
   "execution_count": 31,
   "metadata": {},
   "outputs": [
    {
     "data": {
      "text/html": [
       "<style>#sk-container-id-6 {color: black;}#sk-container-id-6 pre{padding: 0;}#sk-container-id-6 div.sk-toggleable {background-color: white;}#sk-container-id-6 label.sk-toggleable__label {cursor: pointer;display: block;width: 100%;margin-bottom: 0;padding: 0.3em;box-sizing: border-box;text-align: center;}#sk-container-id-6 label.sk-toggleable__label-arrow:before {content: \"▸\";float: left;margin-right: 0.25em;color: #696969;}#sk-container-id-6 label.sk-toggleable__label-arrow:hover:before {color: black;}#sk-container-id-6 div.sk-estimator:hover label.sk-toggleable__label-arrow:before {color: black;}#sk-container-id-6 div.sk-toggleable__content {max-height: 0;max-width: 0;overflow: hidden;text-align: left;background-color: #f0f8ff;}#sk-container-id-6 div.sk-toggleable__content pre {margin: 0.2em;color: black;border-radius: 0.25em;background-color: #f0f8ff;}#sk-container-id-6 input.sk-toggleable__control:checked~div.sk-toggleable__content {max-height: 200px;max-width: 100%;overflow: auto;}#sk-container-id-6 input.sk-toggleable__control:checked~label.sk-toggleable__label-arrow:before {content: \"▾\";}#sk-container-id-6 div.sk-estimator input.sk-toggleable__control:checked~label.sk-toggleable__label {background-color: #d4ebff;}#sk-container-id-6 div.sk-label input.sk-toggleable__control:checked~label.sk-toggleable__label {background-color: #d4ebff;}#sk-container-id-6 input.sk-hidden--visually {border: 0;clip: rect(1px 1px 1px 1px);clip: rect(1px, 1px, 1px, 1px);height: 1px;margin: -1px;overflow: hidden;padding: 0;position: absolute;width: 1px;}#sk-container-id-6 div.sk-estimator {font-family: monospace;background-color: #f0f8ff;border: 1px dotted black;border-radius: 0.25em;box-sizing: border-box;margin-bottom: 0.5em;}#sk-container-id-6 div.sk-estimator:hover {background-color: #d4ebff;}#sk-container-id-6 div.sk-parallel-item::after {content: \"\";width: 100%;border-bottom: 1px solid gray;flex-grow: 1;}#sk-container-id-6 div.sk-label:hover label.sk-toggleable__label {background-color: #d4ebff;}#sk-container-id-6 div.sk-serial::before {content: \"\";position: absolute;border-left: 1px solid gray;box-sizing: border-box;top: 0;bottom: 0;left: 50%;z-index: 0;}#sk-container-id-6 div.sk-serial {display: flex;flex-direction: column;align-items: center;background-color: white;padding-right: 0.2em;padding-left: 0.2em;position: relative;}#sk-container-id-6 div.sk-item {position: relative;z-index: 1;}#sk-container-id-6 div.sk-parallel {display: flex;align-items: stretch;justify-content: center;background-color: white;position: relative;}#sk-container-id-6 div.sk-item::before, #sk-container-id-6 div.sk-parallel-item::before {content: \"\";position: absolute;border-left: 1px solid gray;box-sizing: border-box;top: 0;bottom: 0;left: 50%;z-index: -1;}#sk-container-id-6 div.sk-parallel-item {display: flex;flex-direction: column;z-index: 1;position: relative;background-color: white;}#sk-container-id-6 div.sk-parallel-item:first-child::after {align-self: flex-end;width: 50%;}#sk-container-id-6 div.sk-parallel-item:last-child::after {align-self: flex-start;width: 50%;}#sk-container-id-6 div.sk-parallel-item:only-child::after {width: 0;}#sk-container-id-6 div.sk-dashed-wrapped {border: 1px dashed gray;margin: 0 0.4em 0.5em 0.4em;box-sizing: border-box;padding-bottom: 0.4em;background-color: white;}#sk-container-id-6 div.sk-label label {font-family: monospace;font-weight: bold;display: inline-block;line-height: 1.2em;}#sk-container-id-6 div.sk-label-container {text-align: center;}#sk-container-id-6 div.sk-container {/* jupyter's `normalize.less` sets `[hidden] { display: none; }` but bootstrap.min.css set `[hidden] { display: none !important; }` so we also need the `!important` here to be able to override the default hidden behavior on the sphinx rendered scikit-learn.org. See: https://github.com/scikit-learn/scikit-learn/issues/21755 */display: inline-block !important;position: relative;}#sk-container-id-6 div.sk-text-repr-fallback {display: none;}</style><div id=\"sk-container-id-6\" class=\"sk-top-container\"><div class=\"sk-text-repr-fallback\"><pre>DecisionTreeClassifier(random_state=100)</pre><b>In a Jupyter environment, please rerun this cell to show the HTML representation or trust the notebook. <br />On GitHub, the HTML representation is unable to render, please try loading this page with nbviewer.org.</b></div><div class=\"sk-container\" hidden><div class=\"sk-item\"><div class=\"sk-estimator sk-toggleable\"><input class=\"sk-toggleable__control sk-hidden--visually\" id=\"sk-estimator-id-6\" type=\"checkbox\" checked><label for=\"sk-estimator-id-6\" class=\"sk-toggleable__label sk-toggleable__label-arrow\">DecisionTreeClassifier</label><div class=\"sk-toggleable__content\"><pre>DecisionTreeClassifier(random_state=100)</pre></div></div></div></div></div>"
      ],
      "text/plain": [
       "DecisionTreeClassifier(random_state=100)"
      ]
     },
     "execution_count": 31,
     "metadata": {},
     "output_type": "execute_result"
    }
   ],
   "source": [
    "# 1) Definindo um objeto com a função da árvore de decisão vista em aula.\n",
    "\n",
    "clf = DecisionTreeClassifier(random_state = 100)\n",
    "clf"
   ]
  },
  {
   "cell_type": "code",
   "execution_count": 42,
   "metadata": {},
   "outputs": [
    {
     "name": "stdout",
     "output_type": "stream",
     "text": [
      "Acurácia no conjunto de treinamento: 0.9912483912483913\n"
     ]
    }
   ],
   "source": [
    "# 2. Treinando o modelo com os dados de treinamento\n",
    "clf.fit(X_train, y_train)\n",
    "\n",
    "# Fazendo previsões no conjunto de treinamento\n",
    "previsoes_treinamento = clf.predict(X_train)\n",
    "\n",
    "# Avaliando a acurácia no conjunto de treinamento\n",
    "acuracia_treinamento = accuracy_score(y_train, previsoes_treinamento)\n",
    "print(\"Acurácia no conjunto de treinamento:\", acuracia_treinamento)\n"
   ]
  },
  {
   "cell_type": "code",
   "execution_count": 70,
   "metadata": {},
   "outputs": [
    {
     "ename": "InvalidParameterError",
     "evalue": "The 'feature_names' parameter of plot_tree must be an instance of 'list' or None. Got Index(['qtd_filhos', 'idade', 'tempo_emprego', 'possui_celular',\n       'possui_fone_comercial', 'possui_fone', 'possui_email',\n       'qt_pessoas_residencia', 'sexo_M', 'posse_de_veiculo_Y',\n       'posse_de_imovel_Y', 'tipo_renda_Pensioner', 'tipo_renda_State servant',\n       'tipo_renda_Student', 'tipo_renda_Working', 'educacao_Higher education',\n       'educacao_Incomplete higher', 'educacao_Lower secondary',\n       'educacao_Secondary / secondary special', 'estado_civil_Married',\n       'estado_civil_Separated', 'estado_civil_Single / not married',\n       'estado_civil_Widow', 'tipo_residencia_House / apartment',\n       'tipo_residencia_Municipal apartment',\n       'tipo_residencia_Office apartment', 'tipo_residencia_Rented apartment',\n       'tipo_residencia_With parents'],\n      dtype='object') instead.",
     "output_type": "error",
     "traceback": [
      "\u001b[1;31m---------------------------------------------------------------------------\u001b[0m",
      "\u001b[1;31mInvalidParameterError\u001b[0m                     Traceback (most recent call last)",
      "Cell \u001b[1;32mIn[70], line 4\u001b[0m\n\u001b[0;32m      1\u001b[0m \u001b[38;5;66;03m# 3. Visualizando a árvore \u001b[39;00m\n\u001b[0;32m      3\u001b[0m plt\u001b[38;5;241m.\u001b[39mfigure(figsize\u001b[38;5;241m=\u001b[39m(\u001b[38;5;241m10\u001b[39m,\u001b[38;5;241m5\u001b[39m))\n\u001b[1;32m----> 4\u001b[0m plot_tree(clf,\n\u001b[0;32m      5\u001b[0m           feature_names\u001b[38;5;241m=\u001b[39mX_train\u001b[38;5;241m.\u001b[39mcolumns,\n\u001b[0;32m      6\u001b[0m           class_names\u001b[38;5;241m=\u001b[39m[\u001b[38;5;124m'\u001b[39m\u001b[38;5;124mbom\u001b[39m\u001b[38;5;124m'\u001b[39m, \u001b[38;5;124m'\u001b[39m\u001b[38;5;124mmau\u001b[39m\u001b[38;5;124m'\u001b[39m],\n\u001b[0;32m      7\u001b[0m           filled\u001b[38;5;241m=\u001b[39m\u001b[38;5;28;01mTrue\u001b[39;00m, \n\u001b[0;32m      8\u001b[0m           rounded\u001b[38;5;241m=\u001b[39m\u001b[38;5;28;01mTrue\u001b[39;00m)\n",
      "File \u001b[1;32m~\\anaconda3\\Lib\\site-packages\\sklearn\\utils\\_param_validation.py:201\u001b[0m, in \u001b[0;36mvalidate_params.<locals>.decorator.<locals>.wrapper\u001b[1;34m(*args, **kwargs)\u001b[0m\n\u001b[0;32m    198\u001b[0m to_ignore \u001b[38;5;241m+\u001b[39m\u001b[38;5;241m=\u001b[39m [\u001b[38;5;124m\"\u001b[39m\u001b[38;5;124mself\u001b[39m\u001b[38;5;124m\"\u001b[39m, \u001b[38;5;124m\"\u001b[39m\u001b[38;5;124mcls\u001b[39m\u001b[38;5;124m\"\u001b[39m]\n\u001b[0;32m    199\u001b[0m params \u001b[38;5;241m=\u001b[39m {k: v \u001b[38;5;28;01mfor\u001b[39;00m k, v \u001b[38;5;129;01min\u001b[39;00m params\u001b[38;5;241m.\u001b[39marguments\u001b[38;5;241m.\u001b[39mitems() \u001b[38;5;28;01mif\u001b[39;00m k \u001b[38;5;129;01mnot\u001b[39;00m \u001b[38;5;129;01min\u001b[39;00m to_ignore}\n\u001b[1;32m--> 201\u001b[0m validate_parameter_constraints(\n\u001b[0;32m    202\u001b[0m     parameter_constraints, params, caller_name\u001b[38;5;241m=\u001b[39mfunc\u001b[38;5;241m.\u001b[39m\u001b[38;5;18m__qualname__\u001b[39m\n\u001b[0;32m    203\u001b[0m )\n\u001b[0;32m    205\u001b[0m \u001b[38;5;28;01mtry\u001b[39;00m:\n\u001b[0;32m    206\u001b[0m     \u001b[38;5;28;01mwith\u001b[39;00m config_context(\n\u001b[0;32m    207\u001b[0m         skip_parameter_validation\u001b[38;5;241m=\u001b[39m(\n\u001b[0;32m    208\u001b[0m             prefer_skip_nested_validation \u001b[38;5;129;01mor\u001b[39;00m global_skip_validation\n\u001b[0;32m    209\u001b[0m         )\n\u001b[0;32m    210\u001b[0m     ):\n",
      "File \u001b[1;32m~\\anaconda3\\Lib\\site-packages\\sklearn\\utils\\_param_validation.py:95\u001b[0m, in \u001b[0;36mvalidate_parameter_constraints\u001b[1;34m(parameter_constraints, params, caller_name)\u001b[0m\n\u001b[0;32m     89\u001b[0m \u001b[38;5;28;01melse\u001b[39;00m:\n\u001b[0;32m     90\u001b[0m     constraints_str \u001b[38;5;241m=\u001b[39m (\n\u001b[0;32m     91\u001b[0m         \u001b[38;5;124mf\u001b[39m\u001b[38;5;124m\"\u001b[39m\u001b[38;5;132;01m{\u001b[39;00m\u001b[38;5;124m'\u001b[39m\u001b[38;5;124m, \u001b[39m\u001b[38;5;124m'\u001b[39m\u001b[38;5;241m.\u001b[39mjoin([\u001b[38;5;28mstr\u001b[39m(c)\u001b[38;5;250m \u001b[39m\u001b[38;5;28;01mfor\u001b[39;00m\u001b[38;5;250m \u001b[39mc\u001b[38;5;250m \u001b[39m\u001b[38;5;129;01min\u001b[39;00m\u001b[38;5;250m \u001b[39mconstraints[:\u001b[38;5;241m-\u001b[39m\u001b[38;5;241m1\u001b[39m]])\u001b[38;5;132;01m}\u001b[39;00m\u001b[38;5;124m or\u001b[39m\u001b[38;5;124m\"\u001b[39m\n\u001b[0;32m     92\u001b[0m         \u001b[38;5;124mf\u001b[39m\u001b[38;5;124m\"\u001b[39m\u001b[38;5;124m \u001b[39m\u001b[38;5;132;01m{\u001b[39;00mconstraints[\u001b[38;5;241m-\u001b[39m\u001b[38;5;241m1\u001b[39m]\u001b[38;5;132;01m}\u001b[39;00m\u001b[38;5;124m\"\u001b[39m\n\u001b[0;32m     93\u001b[0m     )\n\u001b[1;32m---> 95\u001b[0m \u001b[38;5;28;01mraise\u001b[39;00m InvalidParameterError(\n\u001b[0;32m     96\u001b[0m     \u001b[38;5;124mf\u001b[39m\u001b[38;5;124m\"\u001b[39m\u001b[38;5;124mThe \u001b[39m\u001b[38;5;132;01m{\u001b[39;00mparam_name\u001b[38;5;132;01m!r}\u001b[39;00m\u001b[38;5;124m parameter of \u001b[39m\u001b[38;5;132;01m{\u001b[39;00mcaller_name\u001b[38;5;132;01m}\u001b[39;00m\u001b[38;5;124m must be\u001b[39m\u001b[38;5;124m\"\u001b[39m\n\u001b[0;32m     97\u001b[0m     \u001b[38;5;124mf\u001b[39m\u001b[38;5;124m\"\u001b[39m\u001b[38;5;124m \u001b[39m\u001b[38;5;132;01m{\u001b[39;00mconstraints_str\u001b[38;5;132;01m}\u001b[39;00m\u001b[38;5;124m. Got \u001b[39m\u001b[38;5;132;01m{\u001b[39;00mparam_val\u001b[38;5;132;01m!r}\u001b[39;00m\u001b[38;5;124m instead.\u001b[39m\u001b[38;5;124m\"\u001b[39m\n\u001b[0;32m     98\u001b[0m )\n",
      "\u001b[1;31mInvalidParameterError\u001b[0m: The 'feature_names' parameter of plot_tree must be an instance of 'list' or None. Got Index(['qtd_filhos', 'idade', 'tempo_emprego', 'possui_celular',\n       'possui_fone_comercial', 'possui_fone', 'possui_email',\n       'qt_pessoas_residencia', 'sexo_M', 'posse_de_veiculo_Y',\n       'posse_de_imovel_Y', 'tipo_renda_Pensioner', 'tipo_renda_State servant',\n       'tipo_renda_Student', 'tipo_renda_Working', 'educacao_Higher education',\n       'educacao_Incomplete higher', 'educacao_Lower secondary',\n       'educacao_Secondary / secondary special', 'estado_civil_Married',\n       'estado_civil_Separated', 'estado_civil_Single / not married',\n       'estado_civil_Widow', 'tipo_residencia_House / apartment',\n       'tipo_residencia_Municipal apartment',\n       'tipo_residencia_Office apartment', 'tipo_residencia_Rented apartment',\n       'tipo_residencia_With parents'],\n      dtype='object') instead."
     ]
    },
    {
     "data": {
      "text/plain": [
       "<Figure size 1000x500 with 0 Axes>"
      ]
     },
     "metadata": {},
     "output_type": "display_data"
    }
   ],
   "source": [
    "# 3. Visualizando a árvore \n",
    "\n",
    "plt.figure(figsize=(10,5))\n",
    "plot_tree(clf,\n",
    "          feature_names=X_train.columns,\n",
    "          class_names=['bom', 'mau'],\n",
    "          filled=True, \n",
    "          rounded=True)\n",
    "\n"
   ]
  },
  {
   "cell_type": "code",
   "execution_count": 51,
   "metadata": {},
   "outputs": [
    {
     "data": {
      "image/png": "[encoded data removed]",
      "text/plain": [
       "<Figure size 800x600 with 1 Axes>"
      ]
     },
     "metadata": {},
     "output_type": "display_data"
    }
   ],
   "source": [
    "# Fazendo previsões no conjunto de validação\n",
    "previsoes_validacao = clf.predict(X_val)\n",
    "\n",
    "# Criando a matriz de confusão\n",
    "matriz_confusao = confusion_matrix(y_val, previsoes_validacao)\n",
    "\n",
    "# Criando um DataFrame para facilitar a visualização\n",
    "nomes_classes = [\"reprovados\", \"aprovados\"]\n",
    "df_matriz_confusao = pd.DataFrame(matriz_confusao, index=nomes_classes, columns=nomes_classes)\n",
    "\n",
    "# Criando a visualização da matriz de confusão com seaborn\n",
    "plt.figure(figsize=(8, 6))\n",
    "sns.heatmap(df_matriz_confusao, annot=True, fmt=\"d\", cmap=\"Blues\", cbar=False)\n",
    "plt.title(\"Matriz de Confusão\")\n",
    "plt.xlabel(\"Predições\")\n",
    "plt.ylabel(\"Real\")\n",
    "plt.show()\n"
   ]
  },
  {
   "cell_type": "code",
   "execution_count": 53,
   "metadata": {},
   "outputs": [
    {
     "name": "stdout",
     "output_type": "stream",
     "text": [
      "Acurácia na base de treinamento: 0.9912483912483913\n"
     ]
    }
   ],
   "source": [
    "# 5) Calcule a acurácia na base de treinamento.\n",
    "\n",
    "acuracia_treinamento = accuracy_score(y_train, previsoes_treinamento)\n",
    "\n",
    "# Exibindo a acurácia\n",
    "print(\"Acurácia na base de treinamento:\", acuracia_treinamento)"
   ]
  },
  {
   "cell_type": "markdown",
   "metadata": {},
   "source": [
    "#### 3) Vamos avaliar o modelo na base de testes\n",
    "\n",
    "1. Classifique a base de teste de acordo com a árvore que você treinou no item 2.\n",
    "2. Produza a visualização da matriz de confusão para a base de teste.\n",
    "3. Calcule a acurácia da base de teste. Compare com a acurácia da base de treinamento.\n",
    "4. Treine uma nova árvore com número mínimo de observações por folha de 5 e máximo de profundidade de 10. Use o random_state = 123. Avalie a matriz de classificação. Observe a distribuição da predição - qual a proporção de proponentes foram classificados como 'maus'?\n",
    "5. Como ficaria a acurácia se você classificasse todos os contratos como 'bons'?"
   ]
  },
  {
   "cell_type": "code",
   "execution_count": 60,
   "metadata": {},
   "outputs": [
    {
     "name": "stdout",
     "output_type": "stream",
     "text": [
      "Valores preditos:\n",
      "False    11443\n",
      "True       212\n",
      "Name: count, dtype: int64 \n",
      "\n",
      "Valores reais:\n",
      "mau\n",
      "False    11373\n",
      "True       282\n",
      "Name: count, dtype: int64\n"
     ]
    }
   ],
   "source": [
    "# 1) Classifique a base de teste de acordo com a árvore que você treinou no item 2.\n",
    "\n",
    "previsoes_teste = clf.predict(X_train)\n",
    "\n",
    "print('Valores preditos:') \n",
    "print(pd.Series(previsoes_teste).value_counts(), '\\n')\n",
    "\n",
    "print('Valores reais:')\n",
    "print(y_train.value_counts())"
   ]
  },
  {
   "cell_type": "code",
   "execution_count": 61,
   "metadata": {},
   "outputs": [
    {
     "data": {
      "image/png": "[encoded data removed]",
      "text/plain": [
       "<Figure size 800x600 with 1 Axes>"
      ]
     },
     "metadata": {},
     "output_type": "display_data"
    }
   ],
   "source": [
    "# 2. Produza a visualização da matriz de confusão para a base de teste.\n",
    "\n",
    "previsoes_teste = clf.predict(X_train)\n",
    "\n",
    "# Criando a matriz de confusão\n",
    "matriz_confusao_teste = confusion_matrix(y_train, previsoes_teste)\n",
    "\n",
    "# Criando um DataFrame para facilitar a visualização\n",
    "df_matriz_confusao_teste = pd.DataFrame(matriz_confusao_teste, index=nomes_classes, columns=nomes_classes)\n",
    "\n",
    "# Criando a visualização da matriz de confusão com seaborn\n",
    "plt.figure(figsize=(8, 6))\n",
    "sns.heatmap(df_matriz_confusao_teste, annot=True, fmt=\"d\", cmap=\"Blues\", cbar=False)\n",
    "plt.title(\"Matriz de Confusão - Base de Teste\")\n",
    "plt.xlabel(\"Predições\")\n",
    "plt.ylabel(\"Real\")\n",
    "plt.show()\n",
    "\n"
   ]
  },
  {
   "cell_type": "code",
   "execution_count": 62,
   "metadata": {},
   "outputs": [
    {
     "name": "stdout",
     "output_type": "stream",
     "text": [
      "Acurácia na base de teste: 0.9912483912483913\n"
     ]
    }
   ],
   "source": [
    "# 3. Calcule a acurácia da base de teste. Compare com a acurácia da base de treinamento.\n",
    "\n",
    "previsoes_teste = clf.predict(X_train)\n",
    "\n",
    "# Calculando a acurácia na base de teste\n",
    "acuracia_teste = accuracy_score(y_train, previsoes_teste)\n",
    "\n",
    "print(\"Acurácia na base de teste:\", acuracia_teste)\n"
   ]
  },
  {
   "cell_type": "code",
   "execution_count": 67,
   "metadata": {},
   "outputs": [
    {
     "name": "stdout",
     "output_type": "stream",
     "text": [
      "Matriz de Confusão na base de teste:\n",
      "[[4863   24]\n",
      " [ 100    8]]\n",
      "Proporção de proponentes classificados como 'maus': 92.59%\n"
     ]
    }
   ],
   "source": [
    "# 4. Treine uma nova árvore com número mínimo de observações por folha de 5 e máximo de profundidade de 10. Use o random_state = 123. Avalie a matriz de classificação. Observe a distribuição da predição - qual a proporção de proponentes foram classificados como 'maus'?\n",
    "\n",
    "# Criando o objeto da nova árvore de decisão\n",
    "nova_clf = DecisionTreeClassifier(min_samples_leaf=5, max_depth=10, random_state=123)\n",
    "\n",
    "# Treinando o modelo com os novos parâmetros\n",
    "nova_clf.fit(X_train, y_train)\n",
    "\n",
    "# Fazendo previsões no conjunto de teste\n",
    "previsoes_nova_arvore = nova_clf.predict(X_val)\n",
    "\n",
    "# Calculando a matriz de confusão\n",
    "matriz_confusao_nova_arvore = confusion_matrix(y_val, previsoes_nova_arvore)\n",
    "\n",
    "# Exibindo a matriz de confusão\n",
    "print(\"Matriz de Confusão na base de teste:\")\n",
    "print(matriz_confusao_nova_arvore)\n",
    "\n",
    "# Calculando a proporção de proponentes classificados como 'maus'\n",
    "proporcao_maus = matriz_confusao_nova_arvore[1, 0] / (matriz_confusao_nova_arvore[1, 0] + matriz_confusao_nova_arvore[1, 1])\n",
    "print(\"Proporção de proponentes classificados como 'maus': {:.2%}\".format(proporcao_maus))\n"
   ]
  },
  {
   "cell_type": "code",
   "execution_count": 69,
   "metadata": {},
   "outputs": [
    {
     "name": "stdout",
     "output_type": "stream",
     "text": [
      "Acurácia ao classificar todos os contratos como 'bons': 0.00%\n"
     ]
    },
    {
     "name": "stderr",
     "output_type": "stream",
     "text": [
      "C:\\Users\\milla\\anaconda3\\Lib\\site-packages\\sklearn\\metrics\\_classification.py:226: FutureWarning: elementwise comparison failed; returning scalar instead, but in the future will perform elementwise comparison\n",
      "  score = y_true == y_pred\n"
     ]
    }
   ],
   "source": [
    "# 5. Como ficaria a acurácia se você classificasse todos os contratos como 'bons'?\n",
    "\n",
    "todos_bons = ['bons'] * len(y_val)\n",
    "\n",
    "# Calculando a acurácia ao classificar todos os contratos como 'bons'\n",
    "acuracia_todos_bons = accuracy_score(y_val, todos_bons)\n",
    "\n",
    "# Exibindo a acurácia\n",
    "print(\"Acurácia ao classificar todos os contratos como 'bons': {:.2%}\".format(acuracia_todos_bons))\n"
   ]
  },
  {
   "cell_type": "code",
   "execution_count": null,
   "metadata": {},
   "outputs": [],
   "source": []
  }
 ],
 "metadata": {
  "kernelspec": {
   "display_name": "Python 3 (ipykernel)",
   "language": "python",
   "name": "python3"
  },
  "language_info": {
   "codemirror_mode": {
    "name": "ipython",
    "version": 3
   },
   "file_extension": ".py",
   "mimetype": "text/x-python",
   "name": "python",
   "nbconvert_exporter": "python",
   "pygments_lexer": "ipython3",
   "version": "3.11.7"
  }
 },
 "nbformat": 4,
 "nbformat_minor": 4
}
