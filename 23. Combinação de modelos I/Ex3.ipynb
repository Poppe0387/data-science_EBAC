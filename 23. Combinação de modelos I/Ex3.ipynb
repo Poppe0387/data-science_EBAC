{
 "cells": [
  {
   "cell_type": "markdown",
   "id": "f2c4a4a4-96cd-4347-96a4-42b6cbb52d40",
   "metadata": {},
   "source": [
    "# Hiperparâmetros do Random Forest"
   ]
  },
  {
   "cell_type": "markdown",
   "id": "0775908c-2d04-45ce-8ad2-2f0208a14cfd",
   "metadata": {},
   "source": [
    "# Quais são os hyperparâmetros do RF e pra que serve cada um deles.\n",
    "\n",
    "Os hyperparâmetros do Random Forest são parâmetros que podem ser ajustados para otimizar o desempenho do modelo.  \n",
    "\n",
    "Seguem alguns exemplos: \n",
    "\n",
    "- *n_estimators:* Número de árvores na floresta (Maior número de árvores geralmente melhora a performance, mas também aumenta o custo computacional.)\n",
    "\n",
    "- *max_depth:* Profundidade máxima das árvores (Limitar a profundidade pode evitar o overfitting)\n",
    "\n",
    "- *min_samples_split:* Número mínimo de amostras necessário para dividir um nó (Um valor maior impede que as árvores fiquem muito profundas)\n",
    "\n",
    "- *min_samples_leaf:* Número mínimo de amostras necessárias em um nó folha. (Evita a criação de nós muito pequenos)\n",
    "\n",
    "- *max_features:* Número máximo de características consideradas para encontrar a melhor divisão (Pode ser um valor inteiro, uma fração ou um valor específico como \"sqrt\" ou \"log2\", ajustar esse parâmetro afeta a diversidade e a correlação entre as árvores)\n",
    "\n",
    "- *bootstrap:* Se True, amostra com reposição. Se False, usa todo o conjunto de dados.\n",
    "\n",
    "- *criterion:* Função para medir a qualidade de uma divisão (Comum para regressão: \"mse\" (erro quadrático médio) ou \"mae\" (erro absoluto médio); Comum para classificação: \"gini\" ou \"entropy\")\n",
    "\n",
    "- *max_leaf_nodes:* Número máximo de nós folhas na árvore (Limita o número de nós folhas, controlando a complexidade da árvore.)\n",
    "\n",
    "- *min_weight_fraction_leaf:* Fração mínima do peso total (somatório das amostras) necessária em um nó folha.\n",
    "\n",
    "- *max_samples:* Número ou fração de amostras a serem desenhadas dos dados de treinamento para treinar cada árvore.\n",
    "\n",
    "- *oob_score:* Se True, usa amostras fora da bolsa (out-of-bag) para estimar a precisão generalizada.\n",
    "\n",
    "- *n_jobs:* Número de trabalhos a serem executados em paralelo (-1 usa todos os processadores disponíveis)\n",
    "\n",
    "- *random_state:* Semente usada pelo gerador de números aleatórios (Controla a aleatoriedade para reprodutibilidade dos resultados)\n",
    "\n",
    "- *verbose:* Controla o nível de verbosidade ao ajustar as árvores.\n",
    "\n",
    "- *warm_start:* Quando definido como True, reutiliza a solução da chamada anterior para ajustar e adicionar mais estimadores."
   ]
  },
  {
   "cell_type": "code",
   "execution_count": null,
   "id": "57eacadd-63f8-4779-be84-cd1d7ff0945e",
   "metadata": {},
   "outputs": [],
   "source": [
    "## "
   ]
  }
 ],
 "metadata": {
  "kernelspec": {
   "display_name": "Python 3 (ipykernel)",
   "language": "python",
   "name": "python3"
  },
  "language_info": {
   "codemirror_mode": {
    "name": "ipython",
    "version": 3
   },
   "file_extension": ".py",
   "mimetype": "text/x-python",
   "name": "python",
   "nbconvert_exporter": "python",
   "pygments_lexer": "ipython3",
   "version": "3.11.7"
  }
 },
 "nbformat": 4,
 "nbformat_minor": 5
}
