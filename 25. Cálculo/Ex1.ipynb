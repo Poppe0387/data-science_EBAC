{
 "cells": [
  {
   "cell_type": "markdown",
   "metadata": {},
   "source": [
    "# Cálculo - Tarefa 01\n",
    "\n",
    "1. Marque quais desses métodos/algoritmos muito populares em ciência de dados são baseados no uso de derivada:\n",
    "\n",
    "    1. Método Mínimos Quadrados\n",
    "    2. Gradiente descendente\n",
    "    3. Newton Raphson\n",
    "    4. CART (Árvore de decisão)"
   ]
  },
  {
   "cell_type": "markdown",
   "metadata": {},
   "source": [
    "Os métodos/algoritmos que são baseados no uso de derivada são:\n",
    "\n",
    "Gradiente Descendente - Este método utiliza derivadas para encontrar o mínimo de uma função de custo, ajustando os parâmetros na direção do gradiente negativo.\n",
    "\n",
    "Newton-Raphson - Este método também faz uso de derivadas, especificamente a primeira e a segunda derivada (Hessiana), para encontrar raízes de uma função ou para otimização.\n",
    "\n",
    "Já o Método dos Mínimos Quadrados e o CART (Árvore de Decisão) não dependem diretamente do cálculo de derivadas:\n",
    "\n",
    "O Método dos Mínimos Quadrados pode ser resolvido sem derivadas, através de álgebra linear, embora em algumas versões avançadas possa envolver derivadas.\n",
    "CART (Classification and Regression Trees) não utiliza derivadas, sendo um método baseado em regras de decisão e partições recursivas dos dados."
   ]
  },
  {
   "cell_type": "markdown",
   "metadata": {},
   "source": [
    "2. Dada uma base de dados com uma variável resposta $y$ e um conjunto de variáveis explicativas. Considere uma estrutura de um modelo de regressão. Explique com suas palavras por que não é possível obter parâmetros que forneçam um erro quadrático médio (EQM) menor que o obtido com estimadores de mínimos quadrados."
   ]
  },
  {
   "cell_type": "markdown",
   "metadata": {},
   "source": [
    "A razão pela qual não é possível obter parâmetros que forneçam um EQM menor do que o obtido com os estimadores de mínimos quadrados é que, por construção, o método dos mínimos quadrados encontra precisamente os valores dos parâmetros que minimizam esse erro. Em outras palavras, ele resolve um problema de otimização onde a função objetivo a ser minimizada é o EQM.\n",
    "\n",
    "Matematicamente, ao derivar a função de erro quadrático médio em relação aos parâmetros do modelo e igualar a zero, encontramos os parâmetros que minimizam essa função. Esses parâmetros são exatamente aqueles fornecidos pelo método dos mínimos quadrados.\n",
    "\n",
    "Portanto, qualquer outro conjunto de parâmetros diferente daquele encontrado pelo método dos mínimos quadrados necessariamente resultará em um EQM maior ou igual ao mínimo possível. Isso ocorre porque o EQM, sendo uma função convexa em relação aos parâmetros do modelo, possui um único mínimo global, que é o ponto onde o método dos mínimos quadrados nos leva."
   ]
  },
  {
   "cell_type": "code",
   "execution_count": null,
   "metadata": {},
   "outputs": [],
   "source": []
  }
 ],
 "metadata": {
  "kernelspec": {
   "display_name": "Python 3 (ipykernel)",
   "language": "python",
   "name": "python3"
  },
  "language_info": {
   "codemirror_mode": {
    "name": "ipython",
    "version": 3
   },
   "file_extension": ".py",
   "mimetype": "text/x-python",
   "name": "python",
   "nbconvert_exporter": "python",
   "pygments_lexer": "ipython3",
   "version": "3.11.7"
  },
  "toc": {
   "base_numbering": 1,
   "nav_menu": {},
   "number_sections": true,
   "sideBar": true,
   "skip_h1_title": true,
   "title_cell": "Índice",
   "title_sidebar": "Conteúdo",
   "toc_cell": false,
   "toc_position": {},
   "toc_section_display": true,
   "toc_window_display": false
  },
  "varInspector": {
   "cols": {
    "lenName": 16,
    "lenType": 16,
    "lenVar": 40
   },
   "kernels_config": {
    "python": {
     "delete_cmd_postfix": "",
     "delete_cmd_prefix": "del ",
     "library": "var_list.py",
     "varRefreshCmd": "print(var_dic_list())"
    },
    "r": {
     "delete_cmd_postfix": ") ",
     "delete_cmd_prefix": "rm(",
     "library": "var_list.r",
     "varRefreshCmd": "cat(var_dic_list()) "
    }
   },
   "types_to_exclude": [
    "module",
    "function",
    "builtin_function_or_method",
    "instance",
    "_Feature"
   ],
   "window_display": false
  }
 },
 "nbformat": 4,
 "nbformat_minor": 4
}
